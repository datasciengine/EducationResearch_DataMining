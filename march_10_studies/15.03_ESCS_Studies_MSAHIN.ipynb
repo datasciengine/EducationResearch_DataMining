{
 "cells": [
  {
   "cell_type": "markdown",
   "id": "2969b286",
   "metadata": {},
   "source": [
    "# ESCS Dataset EDA"
   ]
  },
  {
   "cell_type": "code",
   "execution_count": 1,
   "id": "695518c4",
   "metadata": {},
   "outputs": [],
   "source": [
    "import pandas as pd\n",
    "import seaborn as sns\n",
    "import matplotlib.pyplot as plt"
   ]
  },
  {
   "cell_type": "markdown",
   "id": "7701ed7d",
   "metadata": {},
   "source": [
    "## Overview"
   ]
  },
  {
   "cell_type": "code",
   "execution_count": 2,
   "id": "5f8c4b7b",
   "metadata": {},
   "outputs": [
    {
     "data": {
      "text/html": [
       "<div>\n",
       "<style scoped>\n",
       "    .dataframe tbody tr th:only-of-type {\n",
       "        vertical-align: middle;\n",
       "    }\n",
       "\n",
       "    .dataframe tbody tr th {\n",
       "        vertical-align: top;\n",
       "    }\n",
       "\n",
       "    .dataframe thead th {\n",
       "        text-align: right;\n",
       "    }\n",
       "</style>\n",
       "<table border=\"1\" class=\"dataframe\">\n",
       "  <thead>\n",
       "    <tr style=\"text-align: right;\">\n",
       "      <th></th>\n",
       "      <th>cycnt</th>\n",
       "      <th>cycle</th>\n",
       "      <th>cnt</th>\n",
       "      <th>schoolid</th>\n",
       "      <th>studentid</th>\n",
       "      <th>oecd</th>\n",
       "      <th>escs_trend</th>\n",
       "      <th>hisei_trend</th>\n",
       "      <th>homepos_trend</th>\n",
       "      <th>paredint_trend</th>\n",
       "    </tr>\n",
       "  </thead>\n",
       "  <tbody>\n",
       "    <tr>\n",
       "      <th>0</th>\n",
       "      <td>05ARE</td>\n",
       "      <td>5</td>\n",
       "      <td>ARE</td>\n",
       "      <td>1</td>\n",
       "      <td>1</td>\n",
       "      <td>0</td>\n",
       "      <td>0.3226</td>\n",
       "      <td>82.410004</td>\n",
       "      <td>-0.351700</td>\n",
       "      <td>16.0</td>\n",
       "    </tr>\n",
       "    <tr>\n",
       "      <th>1</th>\n",
       "      <td>05ARE</td>\n",
       "      <td>5</td>\n",
       "      <td>ARE</td>\n",
       "      <td>1</td>\n",
       "      <td>2</td>\n",
       "      <td>0</td>\n",
       "      <td>0.0598</td>\n",
       "      <td>NaN</td>\n",
       "      <td>0.010140</td>\n",
       "      <td>16.0</td>\n",
       "    </tr>\n",
       "    <tr>\n",
       "      <th>2</th>\n",
       "      <td>05ARE</td>\n",
       "      <td>5</td>\n",
       "      <td>ARE</td>\n",
       "      <td>1</td>\n",
       "      <td>3</td>\n",
       "      <td>0</td>\n",
       "      <td>-0.8984</td>\n",
       "      <td>51.500000</td>\n",
       "      <td>-0.302142</td>\n",
       "      <td>12.0</td>\n",
       "    </tr>\n",
       "    <tr>\n",
       "      <th>3</th>\n",
       "      <td>05ARE</td>\n",
       "      <td>5</td>\n",
       "      <td>ARE</td>\n",
       "      <td>1</td>\n",
       "      <td>4</td>\n",
       "      <td>0</td>\n",
       "      <td>0.4869</td>\n",
       "      <td>81.400002</td>\n",
       "      <td>0.725674</td>\n",
       "      <td>12.0</td>\n",
       "    </tr>\n",
       "    <tr>\n",
       "      <th>4</th>\n",
       "      <td>05ARE</td>\n",
       "      <td>5</td>\n",
       "      <td>ARE</td>\n",
       "      <td>1</td>\n",
       "      <td>5</td>\n",
       "      <td>0</td>\n",
       "      <td>-0.5238</td>\n",
       "      <td>63.029999</td>\n",
       "      <td>-0.105597</td>\n",
       "      <td>12.0</td>\n",
       "    </tr>\n",
       "  </tbody>\n",
       "</table>\n",
       "</div>"
      ],
      "text/plain": [
       "   cycnt  cycle  cnt  schoolid  studentid  oecd  escs_trend  hisei_trend  \\\n",
       "0  05ARE      5  ARE         1          1     0      0.3226    82.410004   \n",
       "1  05ARE      5  ARE         1          2     0      0.0598          NaN   \n",
       "2  05ARE      5  ARE         1          3     0     -0.8984    51.500000   \n",
       "3  05ARE      5  ARE         1          4     0      0.4869    81.400002   \n",
       "4  05ARE      5  ARE         1          5     0     -0.5238    63.029999   \n",
       "\n",
       "   homepos_trend  paredint_trend  \n",
       "0      -0.351700            16.0  \n",
       "1       0.010140            16.0  \n",
       "2      -0.302142            12.0  \n",
       "3       0.725674            12.0  \n",
       "4      -0.105597            12.0  "
      ]
     },
     "execution_count": 2,
     "metadata": {},
     "output_type": "execute_result"
    }
   ],
   "source": [
    "df = pd.read_csv(\"escs_trend.csv\")\n",
    "df.head()"
   ]
  },
  {
   "cell_type": "code",
   "execution_count": 3,
   "id": "d1945853",
   "metadata": {},
   "outputs": [
    {
     "data": {
      "text/plain": [
       "(1447787, 10)"
      ]
     },
     "execution_count": 3,
     "metadata": {},
     "output_type": "execute_result"
    }
   ],
   "source": [
    "df.shape"
   ]
  },
  {
   "cell_type": "code",
   "execution_count": 4,
   "id": "d53cabee",
   "metadata": {},
   "outputs": [
    {
     "data": {
      "text/plain": [
       "Index(['cycnt', 'cycle', 'cnt', 'schoolid', 'studentid', 'oecd', 'escs_trend',\n",
       "       'hisei_trend', 'homepos_trend', 'paredint_trend'],\n",
       "      dtype='object')"
      ]
     },
     "execution_count": 4,
     "metadata": {},
     "output_type": "execute_result"
    }
   ],
   "source": [
    "df.columns"
   ]
  },
  {
   "cell_type": "code",
   "execution_count": 5,
   "id": "f1616838",
   "metadata": {},
   "outputs": [
    {
     "name": "stdout",
     "output_type": "stream",
     "text": [
      "<class 'pandas.core.frame.DataFrame'>\n",
      "RangeIndex: 1447787 entries, 0 to 1447786\n",
      "Data columns (total 10 columns):\n",
      " #   Column          Non-Null Count    Dtype  \n",
      "---  ------          --------------    -----  \n",
      " 0   cycnt           1447787 non-null  object \n",
      " 1   cycle           1447787 non-null  int64  \n",
      " 2   cnt             1447787 non-null  object \n",
      " 3   schoolid        1447787 non-null  int64  \n",
      " 4   studentid       1447787 non-null  int64  \n",
      " 5   oecd            1447787 non-null  int64  \n",
      " 6   escs_trend      1413056 non-null  float64\n",
      " 7   hisei_trend     1351262 non-null  float64\n",
      " 8   homepos_trend   1419125 non-null  float64\n",
      " 9   paredint_trend  1392706 non-null  float64\n",
      "dtypes: float64(4), int64(4), object(2)\n",
      "memory usage: 110.5+ MB\n"
     ]
    }
   ],
   "source": [
    "df.info()"
   ]
  },
  {
   "cell_type": "code",
   "execution_count": 6,
   "id": "dc41750b",
   "metadata": {},
   "outputs": [
    {
     "data": {
      "text/html": [
       "<div>\n",
       "<style scoped>\n",
       "    .dataframe tbody tr th:only-of-type {\n",
       "        vertical-align: middle;\n",
       "    }\n",
       "\n",
       "    .dataframe tbody tr th {\n",
       "        vertical-align: top;\n",
       "    }\n",
       "\n",
       "    .dataframe thead th {\n",
       "        text-align: right;\n",
       "    }\n",
       "</style>\n",
       "<table border=\"1\" class=\"dataframe\">\n",
       "  <thead>\n",
       "    <tr style=\"text-align: right;\">\n",
       "      <th></th>\n",
       "      <th>count</th>\n",
       "      <th>mean</th>\n",
       "      <th>std</th>\n",
       "      <th>min</th>\n",
       "      <th>25%</th>\n",
       "      <th>50%</th>\n",
       "      <th>75%</th>\n",
       "      <th>max</th>\n",
       "    </tr>\n",
       "  </thead>\n",
       "  <tbody>\n",
       "    <tr>\n",
       "      <th>cycle</th>\n",
       "      <td>1447787.0</td>\n",
       "      <td>6.070506</td>\n",
       "      <td>0.831708</td>\n",
       "      <td>5.000000</td>\n",
       "      <td>5.000000</td>\n",
       "      <td>6.000000</td>\n",
       "      <td>7.00000</td>\n",
       "      <td>7.000000</td>\n",
       "    </tr>\n",
       "    <tr>\n",
       "      <th>schoolid</th>\n",
       "      <td>1447787.0</td>\n",
       "      <td>553.051677</td>\n",
       "      <td>4152.366698</td>\n",
       "      <td>1.000000</td>\n",
       "      <td>64.000000</td>\n",
       "      <td>137.000000</td>\n",
       "      <td>248.00000</td>\n",
       "      <td>50119.000000</td>\n",
       "    </tr>\n",
       "    <tr>\n",
       "      <th>studentid</th>\n",
       "      <td>1447787.0</td>\n",
       "      <td>6736.301723</td>\n",
       "      <td>7811.206408</td>\n",
       "      <td>1.000000</td>\n",
       "      <td>2161.000000</td>\n",
       "      <td>4335.000000</td>\n",
       "      <td>7627.00000</td>\n",
       "      <td>54797.000000</td>\n",
       "    </tr>\n",
       "    <tr>\n",
       "      <th>oecd</th>\n",
       "      <td>1447787.0</td>\n",
       "      <td>0.606292</td>\n",
       "      <td>0.488572</td>\n",
       "      <td>0.000000</td>\n",
       "      <td>0.000000</td>\n",
       "      <td>1.000000</td>\n",
       "      <td>1.00000</td>\n",
       "      <td>1.000000</td>\n",
       "    </tr>\n",
       "    <tr>\n",
       "      <th>escs_trend</th>\n",
       "      <td>1413056.0</td>\n",
       "      <td>-0.407017</td>\n",
       "      <td>1.141891</td>\n",
       "      <td>-9.861800</td>\n",
       "      <td>-1.143700</td>\n",
       "      <td>-0.320500</td>\n",
       "      <td>0.48960</td>\n",
       "      <td>4.703700</td>\n",
       "    </tr>\n",
       "    <tr>\n",
       "      <th>hisei_trend</th>\n",
       "      <td>1351262.0</td>\n",
       "      <td>49.370633</td>\n",
       "      <td>22.616017</td>\n",
       "      <td>11.010000</td>\n",
       "      <td>28.480000</td>\n",
       "      <td>50.369999</td>\n",
       "      <td>70.50000</td>\n",
       "      <td>88.959999</td>\n",
       "    </tr>\n",
       "    <tr>\n",
       "      <th>homepos_trend</th>\n",
       "      <td>1419125.0</td>\n",
       "      <td>0.113613</td>\n",
       "      <td>0.599134</td>\n",
       "      <td>-6.801333</td>\n",
       "      <td>-0.245626</td>\n",
       "      <td>0.148944</td>\n",
       "      <td>0.49767</td>\n",
       "      <td>3.649307</td>\n",
       "    </tr>\n",
       "    <tr>\n",
       "      <th>paredint_trend</th>\n",
       "      <td>1392706.0</td>\n",
       "      <td>13.194748</td>\n",
       "      <td>3.041958</td>\n",
       "      <td>3.000000</td>\n",
       "      <td>12.000000</td>\n",
       "      <td>14.500000</td>\n",
       "      <td>16.00000</td>\n",
       "      <td>16.000000</td>\n",
       "    </tr>\n",
       "  </tbody>\n",
       "</table>\n",
       "</div>"
      ],
      "text/plain": [
       "                    count         mean          std        min          25%  \\\n",
       "cycle           1447787.0     6.070506     0.831708   5.000000     5.000000   \n",
       "schoolid        1447787.0   553.051677  4152.366698   1.000000    64.000000   \n",
       "studentid       1447787.0  6736.301723  7811.206408   1.000000  2161.000000   \n",
       "oecd            1447787.0     0.606292     0.488572   0.000000     0.000000   \n",
       "escs_trend      1413056.0    -0.407017     1.141891  -9.861800    -1.143700   \n",
       "hisei_trend     1351262.0    49.370633    22.616017  11.010000    28.480000   \n",
       "homepos_trend   1419125.0     0.113613     0.599134  -6.801333    -0.245626   \n",
       "paredint_trend  1392706.0    13.194748     3.041958   3.000000    12.000000   \n",
       "\n",
       "                        50%         75%           max  \n",
       "cycle              6.000000     7.00000      7.000000  \n",
       "schoolid         137.000000   248.00000  50119.000000  \n",
       "studentid       4335.000000  7627.00000  54797.000000  \n",
       "oecd               1.000000     1.00000      1.000000  \n",
       "escs_trend        -0.320500     0.48960      4.703700  \n",
       "hisei_trend       50.369999    70.50000     88.959999  \n",
       "homepos_trend      0.148944     0.49767      3.649307  \n",
       "paredint_trend    14.500000    16.00000     16.000000  "
      ]
     },
     "execution_count": 6,
     "metadata": {},
     "output_type": "execute_result"
    }
   ],
   "source": [
    "df.describe().T"
   ]
  },
  {
   "cell_type": "code",
   "execution_count": 7,
   "id": "25d60a6f",
   "metadata": {},
   "outputs": [
    {
     "data": {
      "text/plain": [
       "cycnt                 0\n",
       "cycle                 0\n",
       "cnt                   0\n",
       "schoolid              0\n",
       "studentid             0\n",
       "oecd                  0\n",
       "escs_trend        34731\n",
       "hisei_trend       96525\n",
       "homepos_trend     28662\n",
       "paredint_trend    55081\n",
       "dtype: int64"
      ]
     },
     "execution_count": 7,
     "metadata": {},
     "output_type": "execute_result"
    }
   ],
   "source": [
    "df.isna().sum()"
   ]
  },
  {
   "cell_type": "code",
   "execution_count": 8,
   "id": "86b31820",
   "metadata": {},
   "outputs": [
    {
     "data": {
      "text/html": [
       "<div>\n",
       "<style scoped>\n",
       "    .dataframe tbody tr th:only-of-type {\n",
       "        vertical-align: middle;\n",
       "    }\n",
       "\n",
       "    .dataframe tbody tr th {\n",
       "        vertical-align: top;\n",
       "    }\n",
       "\n",
       "    .dataframe thead th {\n",
       "        text-align: right;\n",
       "    }\n",
       "</style>\n",
       "<table border=\"1\" class=\"dataframe\">\n",
       "  <thead>\n",
       "    <tr style=\"text-align: right;\">\n",
       "      <th></th>\n",
       "      <th>cycnt</th>\n",
       "      <th>cycle</th>\n",
       "      <th>cnt</th>\n",
       "      <th>schoolid</th>\n",
       "      <th>studentid</th>\n",
       "      <th>oecd</th>\n",
       "      <th>escs_trend</th>\n",
       "      <th>hisei_trend</th>\n",
       "      <th>homepos_trend</th>\n",
       "      <th>paredint_trend</th>\n",
       "    </tr>\n",
       "  </thead>\n",
       "  <tbody>\n",
       "  </tbody>\n",
       "</table>\n",
       "</div>"
      ],
      "text/plain": [
       "Empty DataFrame\n",
       "Columns: [cycnt, cycle, cnt, schoolid, studentid, oecd, escs_trend, hisei_trend, homepos_trend, paredint_trend]\n",
       "Index: []"
      ]
     },
     "execution_count": 8,
     "metadata": {},
     "output_type": "execute_result"
    }
   ],
   "source": [
    "df[df.duplicated()]"
   ]
  },
  {
   "cell_type": "markdown",
   "id": "72d6e3c5",
   "metadata": {},
   "source": [
    "## cycnt"
   ]
  },
  {
   "cell_type": "code",
   "execution_count": 9,
   "id": "6a3ec98a",
   "metadata": {},
   "outputs": [],
   "source": [
    "feature = \"cycnt\""
   ]
  },
  {
   "cell_type": "code",
   "execution_count": 10,
   "id": "17d513c6",
   "metadata": {},
   "outputs": [
    {
     "data": {
      "text/plain": [
       "190"
      ]
     },
     "execution_count": 10,
     "metadata": {},
     "output_type": "execute_result"
    }
   ],
   "source": [
    "df[feature].nunique()"
   ]
  },
  {
   "cell_type": "code",
   "execution_count": 11,
   "id": "1019946a",
   "metadata": {},
   "outputs": [
    {
     "data": {
      "text/plain": [
       "cycnt\n",
       "07ESP    35943\n",
       "05MEX    33806\n",
       "05ITA    31073\n",
       "05ESP    25313\n",
       "06BRA    23141\n",
       "         ...  \n",
       "06MLT     3634\n",
       "05ISL     3508\n",
       "06ISL     3371\n",
       "07MLT     3363\n",
       "07ISL     3296\n",
       "Name: count, Length: 190, dtype: int64"
      ]
     },
     "execution_count": 11,
     "metadata": {},
     "output_type": "execute_result"
    }
   ],
   "source": [
    "df[feature].value_counts()"
   ]
  },
  {
   "cell_type": "code",
   "execution_count": 12,
   "id": "3f2e2a13",
   "metadata": {},
   "outputs": [
    {
     "data": {
      "text/plain": [
       "cycnt\n",
       "07ESP    35943\n",
       "05MEX    33806\n",
       "05ITA    31073\n",
       "05ESP    25313\n",
       "06BRA    23141\n",
       "         ...  \n",
       "06MLT     3634\n",
       "05ISL     3508\n",
       "06ISL     3371\n",
       "07MLT     3363\n",
       "07ISL     3296\n",
       "Name: count, Length: 190, dtype: int64"
      ]
     },
     "execution_count": 12,
     "metadata": {},
     "output_type": "execute_result"
    }
   ],
   "source": [
    "df[feature].value_counts(sort=True)"
   ]
  },
  {
   "cell_type": "code",
   "execution_count": 13,
   "id": "2f3a9f50",
   "metadata": {},
   "outputs": [
    {
     "data": {
      "image/png": "[encoded data removed]",
      "text/plain": [
       "<Figure size 640x480 with 1 Axes>"
      ]
     },
     "metadata": {},
     "output_type": "display_data"
    }
   ],
   "source": [
    "df[feature].value_counts().plot(kind='bar');"
   ]
  },
  {
   "cell_type": "markdown",
   "id": "c899db25",
   "metadata": {},
   "source": [
    "## cycle"
   ]
  },
  {
   "cell_type": "code",
   "execution_count": 14,
   "id": "28c3754f",
   "metadata": {},
   "outputs": [],
   "source": [
    "feature = \"cycle\""
   ]
  },
  {
   "cell_type": "code",
   "execution_count": 15,
   "id": "16ceafc1",
   "metadata": {},
   "outputs": [
    {
     "data": {
      "text/plain": [
       "cycle\n",
       "7    555381\n",
       "5    453304\n",
       "6    439102\n",
       "Name: count, dtype: int64"
      ]
     },
     "execution_count": 15,
     "metadata": {},
     "output_type": "execute_result"
    }
   ],
   "source": [
    "df[feature].value_counts()"
   ]
  },
  {
   "cell_type": "code",
   "execution_count": 16,
   "id": "eca0fd08",
   "metadata": {},
   "outputs": [
    {
     "data": {
      "image/png": "[encoded data removed]",
      "text/plain": [
       "<Figure size 640x480 with 1 Axes>"
      ]
     },
     "metadata": {},
     "output_type": "display_data"
    }
   ],
   "source": [
    "df[feature].value_counts().plot(kind='bar');"
   ]
  },
  {
   "cell_type": "markdown",
   "id": "9749b1e5",
   "metadata": {},
   "source": [
    "## schoolid"
   ]
  },
  {
   "cell_type": "code",
   "execution_count": 17,
   "id": "563c9e24",
   "metadata": {},
   "outputs": [],
   "source": [
    "feature = \"schoolid\""
   ]
  },
  {
   "cell_type": "code",
   "execution_count": 18,
   "id": "2165acbc",
   "metadata": {},
   "outputs": [
    {
     "data": {
      "text/plain": [
       "array([    1,     2,     3, ..., 50040, 50049, 50106], dtype=int64)"
      ]
     },
     "execution_count": 18,
     "metadata": {},
     "output_type": "execute_result"
    }
   ],
   "source": [
    "df[feature].unique()"
   ]
  },
  {
   "cell_type": "code",
   "execution_count": 19,
   "id": "fff3bfe8",
   "metadata": {},
   "outputs": [
    {
     "data": {
      "text/plain": [
       "1590"
      ]
     },
     "execution_count": 19,
     "metadata": {},
     "output_type": "execute_result"
    }
   ],
   "source": [
    "df[feature].nunique()"
   ]
  },
  {
   "cell_type": "code",
   "execution_count": 20,
   "id": "9d8884fe",
   "metadata": {},
   "outputs": [
    {
     "data": {
      "text/plain": [
       "schoolid\n",
       "14      6612\n",
       "28      6332\n",
       "24      6267\n",
       "51      6264\n",
       "35      6177\n",
       "        ... \n",
       "1260       2\n",
       "1223       1\n",
       "1468       1\n",
       "1332       1\n",
       "1466       1\n",
       "Name: count, Length: 1590, dtype: int64"
      ]
     },
     "execution_count": 20,
     "metadata": {},
     "output_type": "execute_result"
    }
   ],
   "source": [
    "df[feature].value_counts()"
   ]
  },
  {
   "cell_type": "code",
   "execution_count": 21,
   "id": "1490a593",
   "metadata": {},
   "outputs": [
    {
     "data": {
      "image/png": "[encoded data removed]",
      "text/plain": [
       "<Figure size 640x480 with 1 Axes>"
      ]
     },
     "metadata": {},
     "output_type": "display_data"
    }
   ],
   "source": [
    "df[feature].value_counts().plot(kind='bar');"
   ]
  },
  {
   "cell_type": "markdown",
   "id": "1d659955",
   "metadata": {},
   "source": [
    "## studentid"
   ]
  },
  {
   "cell_type": "code",
   "execution_count": 22,
   "id": "655a2b17",
   "metadata": {},
   "outputs": [],
   "source": [
    "feature = \"studentid\""
   ]
  },
  {
   "cell_type": "code",
   "execution_count": 23,
   "id": "c4e09061",
   "metadata": {},
   "outputs": [
    {
     "data": {
      "text/plain": [
       "array([    1,     2,     3, ..., 50464, 52378, 54330], dtype=int64)"
      ]
     },
     "execution_count": 23,
     "metadata": {},
     "output_type": "execute_result"
    }
   ],
   "source": [
    "df[feature].unique()"
   ]
  },
  {
   "cell_type": "code",
   "execution_count": 24,
   "id": "2a53b93c",
   "metadata": {},
   "outputs": [
    {
     "data": {
      "text/plain": [
       "48416"
      ]
     },
     "execution_count": 24,
     "metadata": {},
     "output_type": "execute_result"
    }
   ],
   "source": [
    "df[feature].nunique()"
   ]
  },
  {
   "cell_type": "code",
   "execution_count": 25,
   "id": "620d47bc",
   "metadata": {},
   "outputs": [
    {
     "data": {
      "image/png": "[encoded data removed]",
      "text/plain": [
       "<Figure size 640x480 with 1 Axes>"
      ]
     },
     "metadata": {},
     "output_type": "display_data"
    }
   ],
   "source": [
    "df[feature].value_counts().plot(kind='bar');"
   ]
  },
  {
   "cell_type": "code",
   "execution_count": 26,
   "id": "c5b741ea",
   "metadata": {},
   "outputs": [
    {
     "data": {
      "text/plain": [
       "0"
      ]
     },
     "execution_count": 26,
     "metadata": {},
     "output_type": "execute_result"
    }
   ],
   "source": [
    "df[feature].isna().sum()"
   ]
  },
  {
   "cell_type": "markdown",
   "id": "406303cf",
   "metadata": {},
   "source": [
    "## oecd"
   ]
  },
  {
   "cell_type": "code",
   "execution_count": 27,
   "id": "556fc7f0",
   "metadata": {},
   "outputs": [],
   "source": [
    "feature = \"oecd\""
   ]
  },
  {
   "cell_type": "code",
   "execution_count": 28,
   "id": "0759cfbc",
   "metadata": {
    "scrolled": true
   },
   "outputs": [
    {
     "data": {
      "text/plain": [
       "array([0, 1], dtype=int64)"
      ]
     },
     "execution_count": 28,
     "metadata": {},
     "output_type": "execute_result"
    }
   ],
   "source": [
    "df[feature].unique()"
   ]
  },
  {
   "cell_type": "code",
   "execution_count": 29,
   "id": "4e673edc",
   "metadata": {},
   "outputs": [
    {
     "data": {
      "image/png": "[encoded data removed]",
      "text/plain": [
       "<Figure size 640x480 with 1 Axes>"
      ]
     },
     "metadata": {},
     "output_type": "display_data"
    }
   ],
   "source": [
    "df[feature].value_counts().plot(kind='bar');"
   ]
  },
  {
   "cell_type": "markdown",
   "id": "da297d30",
   "metadata": {},
   "source": [
    "## escs_trend"
   ]
  },
  {
   "cell_type": "code",
   "execution_count": 30,
   "id": "2e64471d",
   "metadata": {},
   "outputs": [],
   "source": [
    "feature = \"escs_trend\""
   ]
  },
  {
   "cell_type": "code",
   "execution_count": 31,
   "id": "07bbc6a3",
   "metadata": {},
   "outputs": [
    {
     "data": {
      "text/plain": [
       "array([ 0.32260001,  0.0598    , -0.89840001, ..., -3.8683    ,\n",
       "       -3.7074001 , -3.3316    ])"
      ]
     },
     "execution_count": 31,
     "metadata": {},
     "output_type": "execute_result"
    }
   ],
   "source": [
    "df[feature].unique()"
   ]
  },
  {
   "cell_type": "code",
   "execution_count": 32,
   "id": "cdafd29e",
   "metadata": {},
   "outputs": [
    {
     "data": {
      "text/plain": [
       "62823"
      ]
     },
     "execution_count": 32,
     "metadata": {},
     "output_type": "execute_result"
    }
   ],
   "source": [
    "df[feature].nunique()"
   ]
  },
  {
   "cell_type": "code",
   "execution_count": 33,
   "id": "bb12b1fd",
   "metadata": {},
   "outputs": [
    {
     "data": {
      "text/plain": [
       "escs_trend\n",
       "-0.9226    73\n",
       "-0.4365    70\n",
       "-0.3494    70\n",
       " 0.3302    70\n",
       " 0.6202    69\n",
       "           ..\n",
       "-4.0764     1\n",
       "-4.8826     1\n",
       "-4.3214     1\n",
       "-5.0173     1\n",
       "-3.3316     1\n",
       "Name: count, Length: 62823, dtype: int64"
      ]
     },
     "execution_count": 33,
     "metadata": {},
     "output_type": "execute_result"
    }
   ],
   "source": [
    "df[feature].value_counts()"
   ]
  },
  {
   "cell_type": "markdown",
   "id": "889437ce",
   "metadata": {},
   "source": [
    "## hisei_trend"
   ]
  },
  {
   "cell_type": "code",
   "execution_count": 34,
   "id": "5763ae04",
   "metadata": {},
   "outputs": [],
   "source": [
    "feature = \"hisei_trend\""
   ]
  },
  {
   "cell_type": "code",
   "execution_count": 35,
   "id": "be7bb06a",
   "metadata": {},
   "outputs": [
    {
     "data": {
      "text/plain": [
       "array([82.410004,       nan, 51.5     , 81.400002, 63.029999, 85.410004,\n",
       "       79.739998, 58.07    , 26.620001, 88.699997, 54.540001, 60.919998,\n",
       "       37.919998, 71.389999, 75.540001, 71.449997, 62.389999, 17.      ,\n",
       "       58.77    , 65.120003, 76.489998, 70.339996, 73.709999, 77.099998,\n",
       "       80.779999, 57.639999, 73.379997, 56.639999, 88.309998, 52.700001,\n",
       "       43.849998, 75.129997, 66.419998, 68.879997, 68.540001, 72.239998,\n",
       "       80.919998, 76.650002, 73.910004, 46.380001, 61.57    , 68.699997,\n",
       "       54.549999, 50.369999, 37.59    , 56.41    , 79.050003, 56.380001,\n",
       "       78.690002, 65.25    , 70.889999, 48.099998, 59.349998, 25.709999,\n",
       "       49.299999, 53.77    , 62.130001, 43.330002, 59.889999, 64.400002,\n",
       "       51.560001, 51.630001, 29.18    , 65.639999, 71.720001, 81.050003,\n",
       "       57.990002, 47.740002, 70.089996, 74.699997, 60.290001, 81.919998,\n",
       "       74.790001, 85.129997, 86.720001, 78.760002, 30.34    , 58.049999,\n",
       "       71.550003, 65.010002, 75.25    , 75.43    , 39.040001, 81.129997,\n",
       "       86.809998, 65.419998, 35.34    , 50.150002, 25.059999, 20.690001,\n",
       "       78.860001, 25.950001, 59.450001, 84.139999, 33.66    , 62.450001,\n",
       "       56.      , 51.919998, 56.349998, 38.18    , 28.48    , 50.900002,\n",
       "       69.239998, 54.860001, 74.660004, 75.5     , 82.309998, 57.      ,\n",
       "       30.780001, 76.980003, 80.459999, 88.959999, 29.73    , 44.939999,\n",
       "       72.940002, 55.029999, 51.009998, 60.439999, 51.25    , 57.970001,\n",
       "       36.860001, 49.48    , 70.5     , 80.75    , 33.830002, 67.040001,\n",
       "       74.5     , 63.310001, 28.120001, 61.599998, 60.93    , 30.9     ,\n",
       "       52.400002, 70.57    , 55.25    , 57.029999, 30.59    , 67.940002,\n",
       "       21.129999, 30.110001, 47.830002, 23.799999, 59.759998, 26.85    ,\n",
       "       24.98    , 63.290001, 26.799999, 33.759998, 26.639999, 42.299999,\n",
       "       53.150002, 79.489998, 39.02    , 85.849998, 40.540001, 53.599998,\n",
       "       72.830002, 41.220001, 38.580002, 54.919998, 54.      , 57.25    ,\n",
       "       59.18    , 51.349998, 40.560001, 68.550003, 29.469999, 57.369999,\n",
       "       70.400002, 75.669998, 25.200001, 83.5     , 16.5     , 31.08    ,\n",
       "       25.459999, 43.759998, 22.77    , 19.66    , 44.139999, 46.73    ,\n",
       "       70.099998, 72.269997, 36.919998, 23.57    , 29.16    , 68.769997,\n",
       "       29.32    , 77.879997, 20.950001, 65.230003, 48.27    , 64.440002,\n",
       "       50.57    , 11.74    , 27.91    , 32.5     , 72.959999, 23.469999,\n",
       "       56.029999, 41.27    , 27.57    , 61.18    , 54.27    , 44.869999,\n",
       "       11.01    , 28.530001, 72.300003, 24.530001, 56.98    , 31.15    ,\n",
       "       84.610001, 33.16    , 57.380001, 43.189999, 47.419998, 56.5     ,\n",
       "       31.719999, 43.060001, 61.82    , 24.799999, 20.91    , 37.34    ,\n",
       "       84.160004, 36.099998, 19.41    , 38.439999, 32.200001, 30.99    ,\n",
       "       28.040001, 81.779999, 28.84    , 36.970001, 14.21    , 27.52    ,\n",
       "       83.809998, 30.35    , 25.389999, 50.049999, 48.130001, 23.459999,\n",
       "       37.830002, 67.110001, 36.349998, 48.82    , 31.459999, 43.509998,\n",
       "       77.239998, 24.07    , 30.139999, 52.720001, 22.790001, 44.720001,\n",
       "       83.089996, 16.33    , 25.629999, 30.32    , 61.91    , 21.24    ,\n",
       "       22.57    , 16.379999, 23.530001, 21.959999, 17.790001, 22.25    ,\n",
       "       25.780001, 22.16    , 24.85    , 78.169998, 17.559999, 62.790001,\n",
       "       26.92    , 22.360001, 71.290001, 21.200001, 25.26    , 28.52    ,\n",
       "       35.07    , 18.950001, 30.49    , 19.08    , 21.639999, 17.85    ,\n",
       "       25.040001, 18.129999, 45.759998, 17.690001, 27.299999, 21.82    ,\n",
       "       41.630001, 26.959999, 18.08    , 29.809999, 44.080002, 28.969999,\n",
       "       14.64    , 25.51    , 26.6     , 21.809999, 20.35    , 27.610001,\n",
       "       23.65    , 55.959999, 32.669998, 24.15    , 18.07    , 32.75    ,\n",
       "       34.25    , 22.75    , 44.919998, 14.82    , 14.57    , 16.360001,\n",
       "       17.549999, 24.16    , 51.77    , 19.780001, 39.450001, 35.82    ,\n",
       "       38.880001, 54.619999, 56.57    , 39.73    , 59.849998, 19.200001,\n",
       "       61.07    , 16.799999, 38.799999, 64.980003, 23.629999, 24.450001,\n",
       "       20.27    , 31.      , 13.34    , 24.879999, 57.040001, 35.66    ,\n",
       "       27.809999, 14.39    , 23.190001, 31.34    , 77.190002, 57.68    ,\n",
       "       11.56    , 23.959999, 24.68    , 48.66    , 12.87    , 35.700001,\n",
       "       24.43    , 23.09    , 28.950001, 30.469999, 29.139999, 50.73    ,\n",
       "       54.669998, 79.309998, 37.220001, 31.440001, 31.5     , 51.93    ,\n",
       "       17.530001, 24.09    , 25.09    , 76.239998, 11.87    , 45.459999,\n",
       "       20.780001, 28.6     , 41.68    , 18.02    , 52.57    , 23.969999,\n",
       "       22.209999, 69.760002, 55.400002, 25.23    , 25.450001, 24.790001,\n",
       "       15.35    , 22.030001, 12.34    , 16.34    , 51.57    , 28.030001,\n",
       "       13.72    , 18.030001, 25.91    , 26.129999, 24.49    , 33.900002,\n",
       "       46.759998, 35.330002, 23.879999, 23.41    , 29.799999, 25.110001,\n",
       "       13.24    , 28.700001, 18.290001, 19.83    , 25.49    , 13.35    ,\n",
       "       16.889999, 21.08    , 25.940001, 27.25    , 12.01    , 23.43    ,\n",
       "       24.93    , 16.08    , 54.349998, 34.119999, 29.299999, 29.84    ,\n",
       "       28.24    , 13.87    , 22.4     , 28.08    , 57.130001, 16.389999])"
      ]
     },
     "execution_count": 35,
     "metadata": {},
     "output_type": "execute_result"
    }
   ],
   "source": [
    "df[feature].unique()"
   ]
  },
  {
   "cell_type": "code",
   "execution_count": 36,
   "id": "86ca8373",
   "metadata": {},
   "outputs": [
    {
     "data": {
      "text/plain": [
       "419"
      ]
     },
     "execution_count": 36,
     "metadata": {},
     "output_type": "execute_result"
    }
   ],
   "source": [
    "df[feature].nunique()"
   ]
  },
  {
   "cell_type": "code",
   "execution_count": 37,
   "id": "b89d919c",
   "metadata": {},
   "outputs": [
    {
     "data": {
      "image/png": "[encoded data removed]",
      "text/plain": [
       "<Figure size 640x480 with 1 Axes>"
      ]
     },
     "metadata": {},
     "output_type": "display_data"
    }
   ],
   "source": [
    "df[feature].value_counts().plot(kind='bar');"
   ]
  },
  {
   "cell_type": "code",
   "execution_count": 38,
   "id": "742077fd",
   "metadata": {},
   "outputs": [
    {
     "data": {
      "text/plain": [
       "96525"
      ]
     },
     "execution_count": 38,
     "metadata": {},
     "output_type": "execute_result"
    }
   ],
   "source": [
    "df[feature].isna().sum()"
   ]
  },
  {
   "cell_type": "markdown",
   "id": "e44affab",
   "metadata": {},
   "source": [
    "## homepos_trend"
   ]
  },
  {
   "cell_type": "code",
   "execution_count": 39,
   "id": "0de4c1b1",
   "metadata": {},
   "outputs": [],
   "source": [
    "feature = \"homepos_trend\""
   ]
  },
  {
   "cell_type": "code",
   "execution_count": 40,
   "id": "29275966",
   "metadata": {},
   "outputs": [
    {
     "data": {
      "text/plain": [
       "array([-0.3517001 ,  0.01014035, -0.30214229, ..., -0.4572058 ,\n",
       "       -1.196708  , -0.97209609])"
      ]
     },
     "execution_count": 40,
     "metadata": {},
     "output_type": "execute_result"
    }
   ],
   "source": [
    "df[feature].unique()"
   ]
  },
  {
   "cell_type": "code",
   "execution_count": 41,
   "id": "afbe2400",
   "metadata": {},
   "outputs": [
    {
     "data": {
      "text/plain": [
       "1294429"
      ]
     },
     "execution_count": 41,
     "metadata": {},
     "output_type": "execute_result"
    }
   ],
   "source": [
    "df[feature].nunique()"
   ]
  },
  {
   "cell_type": "code",
   "execution_count": 42,
   "id": "d2f1c567",
   "metadata": {},
   "outputs": [
    {
     "data": {
      "text/plain": [
       "28662"
      ]
     },
     "execution_count": 42,
     "metadata": {},
     "output_type": "execute_result"
    }
   ],
   "source": [
    "df[feature].isna().sum()"
   ]
  },
  {
   "cell_type": "markdown",
   "id": "88e5ee05",
   "metadata": {},
   "source": [
    "## paredint_trend"
   ]
  },
  {
   "cell_type": "code",
   "execution_count": 43,
   "id": "4633a770",
   "metadata": {},
   "outputs": [],
   "source": [
    "feature = \"paredint_trend\""
   ]
  },
  {
   "cell_type": "code",
   "execution_count": 44,
   "id": "a41cb035",
   "metadata": {},
   "outputs": [
    {
     "data": {
      "text/plain": [
       "array([16. , 12. , 14.5,  nan,  9. ,  3. ,  6. ])"
      ]
     },
     "execution_count": 44,
     "metadata": {},
     "output_type": "execute_result"
    }
   ],
   "source": [
    "df[feature].unique()"
   ]
  },
  {
   "cell_type": "code",
   "execution_count": 45,
   "id": "bbbf7822",
   "metadata": {},
   "outputs": [
    {
     "data": {
      "text/plain": [
       "6"
      ]
     },
     "execution_count": 45,
     "metadata": {},
     "output_type": "execute_result"
    }
   ],
   "source": [
    "df[feature].nunique()"
   ]
  },
  {
   "cell_type": "code",
   "execution_count": 46,
   "id": "f61d0e78",
   "metadata": {},
   "outputs": [
    {
     "data": {
      "text/plain": [
       "paredint_trend\n",
       "16.0    527940\n",
       "12.0    442032\n",
       "14.5    206075\n",
       "9.0     133041\n",
       "6.0      62890\n",
       "3.0      20728\n",
       "Name: count, dtype: int64"
      ]
     },
     "execution_count": 46,
     "metadata": {},
     "output_type": "execute_result"
    }
   ],
   "source": [
    "df[feature].value_counts()"
   ]
  },
  {
   "cell_type": "code",
   "execution_count": 47,
   "id": "2dfc95b2",
   "metadata": {},
   "outputs": [
    {
     "data": {
      "image/png": "[encoded data removed]",
      "text/plain": [
       "<Figure size 640x480 with 1 Axes>"
      ]
     },
     "metadata": {},
     "output_type": "display_data"
    }
   ],
   "source": [
    "df[feature].value_counts().plot(kind='bar');"
   ]
  },
  {
   "cell_type": "code",
   "execution_count": null,
   "id": "0be154af",
   "metadata": {},
   "outputs": [],
   "source": []
  },
  {
   "cell_type": "code",
   "execution_count": null,
   "id": "5c046f59",
   "metadata": {},
   "outputs": [],
   "source": []
  },
  {
   "cell_type": "code",
   "execution_count": null,
   "id": "53ba25e7",
   "metadata": {},
   "outputs": [],
   "source": []
  },
  {
   "cell_type": "code",
   "execution_count": null,
   "id": "535290a9",
   "metadata": {},
   "outputs": [],
   "source": []
  }
 ],
 "metadata": {
  "kernelspec": {
   "display_name": "Python 3 (ipykernel)",
   "language": "python",
   "name": "python3"
  },
  "language_info": {
   "codemirror_mode": {
    "name": "ipython",
    "version": 3
   },
   "file_extension": ".py",
   "mimetype": "text/x-python",
   "name": "python",
   "nbconvert_exporter": "python",
   "pygments_lexer": "ipython3",
   "version": "3.8.10"
  }
 },
 "nbformat": 4,
 "nbformat_minor": 5
}
