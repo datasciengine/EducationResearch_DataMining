{
 "cells": [
  {
   "cell_type": "markdown",
   "id": "d7a95699",
   "metadata": {},
   "source": [
    "# Example Dataset EDA"
   ]
  },
  {
   "cell_type": "code",
   "execution_count": 1,
   "id": "e16b9735",
   "metadata": {},
   "outputs": [],
   "source": [
    "import pandas as pd\n",
    "import seaborn as sns\n",
    "import matplotlib.pyplot as plt"
   ]
  },
  {
   "cell_type": "markdown",
   "id": "e302c4f7",
   "metadata": {},
   "source": [
    "CM474Q01S \t Running Time - Q01 (Scored Response)"
   ]
  },
  {
   "cell_type": "code",
   "execution_count": 2,
   "id": "9e53be8c",
   "metadata": {},
   "outputs": [
    {
     "data": {
      "text/html": [
       "<div>\n",
       "<style scoped>\n",
       "    .dataframe tbody tr th:only-of-type {\n",
       "        vertical-align: middle;\n",
       "    }\n",
       "\n",
       "    .dataframe tbody tr th {\n",
       "        vertical-align: top;\n",
       "    }\n",
       "\n",
       "    .dataframe thead th {\n",
       "        text-align: right;\n",
       "    }\n",
       "</style>\n",
       "<table border=\"1\" class=\"dataframe\">\n",
       "  <thead>\n",
       "    <tr style=\"text-align: right;\">\n",
       "      <th></th>\n",
       "      <th>CM474Q01S: Running Time - Q01 (Scored Response)</th>\n",
       "      <th>Unnamed: 1</th>\n",
       "      <th>Unnamed: 2</th>\n",
       "      <th>Unnamed: 3</th>\n",
       "      <th>Unnamed: 4</th>\n",
       "      <th>Unnamed: 5</th>\n",
       "      <th>Unnamed: 6</th>\n",
       "      <th>Unnamed: 7</th>\n",
       "      <th>Unnamed: 8</th>\n",
       "      <th>Unnamed: 9</th>\n",
       "      <th>Unnamed: 10</th>\n",
       "      <th>Unnamed: 11</th>\n",
       "      <th>Unnamed: 12</th>\n",
       "      <th>Unnamed: 13</th>\n",
       "      <th>Unnamed: 14</th>\n",
       "      <th>Unnamed: 15</th>\n",
       "    </tr>\n",
       "  </thead>\n",
       "  <tbody>\n",
       "    <tr>\n",
       "      <th>0</th>\n",
       "      <td>NaN</td>\n",
       "      <td>Weighted N</td>\n",
       "      <td>Missing</td>\n",
       "      <td>Weighted N</td>\n",
       "      <td>0 - No credit</td>\n",
       "      <td>NaN</td>\n",
       "      <td>1 - Full credit</td>\n",
       "      <td>NaN</td>\n",
       "      <td>Not Reached</td>\n",
       "      <td>NaN</td>\n",
       "      <td>Not Applicable</td>\n",
       "      <td>NaN</td>\n",
       "      <td>Invalid</td>\n",
       "      <td>NaN</td>\n",
       "      <td>No Response</td>\n",
       "      <td>NaN</td>\n",
       "    </tr>\n",
       "    <tr>\n",
       "      <th>1</th>\n",
       "      <td>NaN</td>\n",
       "      <td>All</td>\n",
       "      <td>%</td>\n",
       "      <td>Valid</td>\n",
       "      <td>%</td>\n",
       "      <td>(SE)</td>\n",
       "      <td>%</td>\n",
       "      <td>(SE)</td>\n",
       "      <td>%</td>\n",
       "      <td>(SE)</td>\n",
       "      <td>%</td>\n",
       "      <td>(SE)</td>\n",
       "      <td>%</td>\n",
       "      <td>(SE)</td>\n",
       "      <td>%</td>\n",
       "      <td>(SE)</td>\n",
       "    </tr>\n",
       "    <tr>\n",
       "      <th>2</th>\n",
       "      <td>OECD</td>\n",
       "      <td>NaN</td>\n",
       "      <td>NaN</td>\n",
       "      <td>NaN</td>\n",
       "      <td>NaN</td>\n",
       "      <td>NaN</td>\n",
       "      <td>NaN</td>\n",
       "      <td>NaN</td>\n",
       "      <td>NaN</td>\n",
       "      <td>NaN</td>\n",
       "      <td>NaN</td>\n",
       "      <td>NaN</td>\n",
       "      <td>NaN</td>\n",
       "      <td>NaN</td>\n",
       "      <td>NaN</td>\n",
       "      <td>NaN</td>\n",
       "    </tr>\n",
       "    <tr>\n",
       "      <th>3</th>\n",
       "      <td>Australia¹</td>\n",
       "      <td>132043.12617</td>\n",
       "      <td>88.400758</td>\n",
       "      <td>15316.00199</td>\n",
       "      <td>41.755501</td>\n",
       "      <td>2.225752</td>\n",
       "      <td>57.863025</td>\n",
       "      <td>2.214095</td>\n",
       "      <td>0.184356</td>\n",
       "      <td>0.170821</td>\n",
       "      <td>0</td>\n",
       "      <td>0</td>\n",
       "      <td>0</td>\n",
       "      <td>0</td>\n",
       "      <td>0.197118</td>\n",
       "      <td>0.201196</td>\n",
       "    </tr>\n",
       "    <tr>\n",
       "      <th>4</th>\n",
       "      <td>Austria</td>\n",
       "      <td>37299.7258</td>\n",
       "      <td>87.815039</td>\n",
       "      <td>4544.95688</td>\n",
       "      <td>36.545447</td>\n",
       "      <td>2.412592</td>\n",
       "      <td>62.35309</td>\n",
       "      <td>2.460849</td>\n",
       "      <td>0</td>\n",
       "      <td>0</td>\n",
       "      <td>0</td>\n",
       "      <td>0</td>\n",
       "      <td>0</td>\n",
       "      <td>0</td>\n",
       "      <td>1.101462</td>\n",
       "      <td>0.316916</td>\n",
       "    </tr>\n",
       "    <tr>\n",
       "      <th>...</th>\n",
       "      <td>...</td>\n",
       "      <td>...</td>\n",
       "      <td>...</td>\n",
       "      <td>...</td>\n",
       "      <td>...</td>\n",
       "      <td>...</td>\n",
       "      <td>...</td>\n",
       "      <td>...</td>\n",
       "      <td>...</td>\n",
       "      <td>...</td>\n",
       "      <td>...</td>\n",
       "      <td>...</td>\n",
       "      <td>...</td>\n",
       "      <td>...</td>\n",
       "      <td>...</td>\n",
       "      <td>...</td>\n",
       "    </tr>\n",
       "    <tr>\n",
       "      <th>91</th>\n",
       "      <td>¹ Caution is required when interpreting estima...</td>\n",
       "      <td>NaN</td>\n",
       "      <td>NaN</td>\n",
       "      <td>NaN</td>\n",
       "      <td>NaN</td>\n",
       "      <td>NaN</td>\n",
       "      <td>NaN</td>\n",
       "      <td>NaN</td>\n",
       "      <td>NaN</td>\n",
       "      <td>NaN</td>\n",
       "      <td>NaN</td>\n",
       "      <td>NaN</td>\n",
       "      <td>NaN</td>\n",
       "      <td>NaN</td>\n",
       "      <td>NaN</td>\n",
       "      <td>NaN</td>\n",
       "    </tr>\n",
       "    <tr>\n",
       "      <th>92</th>\n",
       "      <td>² The statistical data for Israel are supplied...</td>\n",
       "      <td>NaN</td>\n",
       "      <td>NaN</td>\n",
       "      <td>NaN</td>\n",
       "      <td>NaN</td>\n",
       "      <td>NaN</td>\n",
       "      <td>NaN</td>\n",
       "      <td>NaN</td>\n",
       "      <td>NaN</td>\n",
       "      <td>NaN</td>\n",
       "      <td>NaN</td>\n",
       "      <td>NaN</td>\n",
       "      <td>NaN</td>\n",
       "      <td>NaN</td>\n",
       "      <td>NaN</td>\n",
       "      <td>NaN</td>\n",
       "    </tr>\n",
       "    <tr>\n",
       "      <th>93</th>\n",
       "      <td>³ Information on data for Cyprus: https://oe.c...</td>\n",
       "      <td>NaN</td>\n",
       "      <td>NaN</td>\n",
       "      <td>NaN</td>\n",
       "      <td>NaN</td>\n",
       "      <td>NaN</td>\n",
       "      <td>NaN</td>\n",
       "      <td>NaN</td>\n",
       "      <td>NaN</td>\n",
       "      <td>NaN</td>\n",
       "      <td>NaN</td>\n",
       "      <td>NaN</td>\n",
       "      <td>NaN</td>\n",
       "      <td>NaN</td>\n",
       "      <td>NaN</td>\n",
       "      <td>NaN</td>\n",
       "    </tr>\n",
       "    <tr>\n",
       "      <th>94</th>\n",
       "      <td>⁴ This designation is without prejudice to pos...</td>\n",
       "      <td>NaN</td>\n",
       "      <td>NaN</td>\n",
       "      <td>NaN</td>\n",
       "      <td>NaN</td>\n",
       "      <td>NaN</td>\n",
       "      <td>NaN</td>\n",
       "      <td>NaN</td>\n",
       "      <td>NaN</td>\n",
       "      <td>NaN</td>\n",
       "      <td>NaN</td>\n",
       "      <td>NaN</td>\n",
       "      <td>NaN</td>\n",
       "      <td>NaN</td>\n",
       "      <td>NaN</td>\n",
       "      <td>NaN</td>\n",
       "    </tr>\n",
       "    <tr>\n",
       "      <th>95</th>\n",
       "      <td>⁵ North Macedonia refers to the Republic of No...</td>\n",
       "      <td>NaN</td>\n",
       "      <td>NaN</td>\n",
       "      <td>NaN</td>\n",
       "      <td>NaN</td>\n",
       "      <td>NaN</td>\n",
       "      <td>NaN</td>\n",
       "      <td>NaN</td>\n",
       "      <td>NaN</td>\n",
       "      <td>NaN</td>\n",
       "      <td>NaN</td>\n",
       "      <td>NaN</td>\n",
       "      <td>NaN</td>\n",
       "      <td>NaN</td>\n",
       "      <td>NaN</td>\n",
       "      <td>NaN</td>\n",
       "    </tr>\n",
       "  </tbody>\n",
       "</table>\n",
       "<p>96 rows × 16 columns</p>\n",
       "</div>"
      ],
      "text/plain": [
       "      CM474Q01S: Running Time - Q01 (Scored Response)    Unnamed: 1  \\\n",
       "0                                                 NaN    Weighted N   \n",
       "1                                                 NaN           All   \n",
       "2                                                OECD           NaN   \n",
       "3                                          Australia¹  132043.12617   \n",
       "4                                             Austria    37299.7258   \n",
       "..                                                ...           ...   \n",
       "91  ¹ Caution is required when interpreting estima...           NaN   \n",
       "92  ² The statistical data for Israel are supplied...           NaN   \n",
       "93  ³ Information on data for Cyprus: https://oe.c...           NaN   \n",
       "94  ⁴ This designation is without prejudice to pos...           NaN   \n",
       "95  ⁵ North Macedonia refers to the Republic of No...           NaN   \n",
       "\n",
       "   Unnamed: 2   Unnamed: 3     Unnamed: 4 Unnamed: 5       Unnamed: 6  \\\n",
       "0     Missing   Weighted N  0 - No credit        NaN  1 - Full credit   \n",
       "1           %        Valid              %       (SE)                %   \n",
       "2         NaN          NaN            NaN        NaN              NaN   \n",
       "3   88.400758  15316.00199      41.755501   2.225752        57.863025   \n",
       "4   87.815039   4544.95688      36.545447   2.412592         62.35309   \n",
       "..        ...          ...            ...        ...              ...   \n",
       "91        NaN          NaN            NaN        NaN              NaN   \n",
       "92        NaN          NaN            NaN        NaN              NaN   \n",
       "93        NaN          NaN            NaN        NaN              NaN   \n",
       "94        NaN          NaN            NaN        NaN              NaN   \n",
       "95        NaN          NaN            NaN        NaN              NaN   \n",
       "\n",
       "   Unnamed: 7   Unnamed: 8 Unnamed: 9     Unnamed: 10 Unnamed: 11 Unnamed: 12  \\\n",
       "0         NaN  Not Reached        NaN  Not Applicable         NaN     Invalid   \n",
       "1        (SE)            %       (SE)               %        (SE)           %   \n",
       "2         NaN          NaN        NaN             NaN         NaN         NaN   \n",
       "3    2.214095     0.184356   0.170821               0           0           0   \n",
       "4    2.460849            0          0               0           0           0   \n",
       "..        ...          ...        ...             ...         ...         ...   \n",
       "91        NaN          NaN        NaN             NaN         NaN         NaN   \n",
       "92        NaN          NaN        NaN             NaN         NaN         NaN   \n",
       "93        NaN          NaN        NaN             NaN         NaN         NaN   \n",
       "94        NaN          NaN        NaN             NaN         NaN         NaN   \n",
       "95        NaN          NaN        NaN             NaN         NaN         NaN   \n",
       "\n",
       "   Unnamed: 13  Unnamed: 14 Unnamed: 15  \n",
       "0          NaN  No Response         NaN  \n",
       "1         (SE)            %        (SE)  \n",
       "2          NaN          NaN         NaN  \n",
       "3            0     0.197118    0.201196  \n",
       "4            0     1.101462    0.316916  \n",
       "..         ...          ...         ...  \n",
       "91         NaN          NaN         NaN  \n",
       "92         NaN          NaN         NaN  \n",
       "93         NaN          NaN         NaN  \n",
       "94         NaN          NaN         NaN  \n",
       "95         NaN          NaN         NaN  \n",
       "\n",
       "[96 rows x 16 columns]"
      ]
     },
     "execution_count": 2,
     "metadata": {},
     "output_type": "execute_result"
    }
   ],
   "source": [
    "df = pd.read_excel(\"pisa2022_ms_cog_female_math_compendium.xlsx\",sheet_name=\"CM474Q01S\")\n",
    "df"
   ]
  },
  {
   "cell_type": "code",
   "execution_count": 3,
   "id": "6b17fe76",
   "metadata": {},
   "outputs": [],
   "source": [
    "df.columns = ['Country', 'Weighted N - All', 'Missing %', 'Weighted Valid', '0 - No Credit %', 'SE', \n",
    "              'Full Credit %', 'SE1', 'Not Reached %', 'SE2', 'Not Applicable %', 'SE3', 'Invalid %', \n",
    "              'SE4', 'No Response %', 'SE5']"
   ]
  },
  {
   "cell_type": "code",
   "execution_count": 4,
   "id": "eef8a0cc",
   "metadata": {},
   "outputs": [],
   "source": [
    "df = df.drop([0,1, 2,85, 86, 87,88,89, 90, 91,92,93, 94, 95])\n",
    "df.reset_index(drop=True, inplace=True)"
   ]
  },
  {
   "cell_type": "code",
   "execution_count": 5,
   "id": "430e0e6d",
   "metadata": {},
   "outputs": [
    {
     "data": {
      "text/html": [
       "<div>\n",
       "<style scoped>\n",
       "    .dataframe tbody tr th:only-of-type {\n",
       "        vertical-align: middle;\n",
       "    }\n",
       "\n",
       "    .dataframe tbody tr th {\n",
       "        vertical-align: top;\n",
       "    }\n",
       "\n",
       "    .dataframe thead th {\n",
       "        text-align: right;\n",
       "    }\n",
       "</style>\n",
       "<table border=\"1\" class=\"dataframe\">\n",
       "  <thead>\n",
       "    <tr style=\"text-align: right;\">\n",
       "      <th></th>\n",
       "      <th>Country</th>\n",
       "      <th>Weighted N - All</th>\n",
       "      <th>Missing %</th>\n",
       "      <th>Weighted Valid</th>\n",
       "      <th>0 - No Credit %</th>\n",
       "      <th>SE</th>\n",
       "      <th>Full Credit %</th>\n",
       "      <th>SE1</th>\n",
       "      <th>Not Reached %</th>\n",
       "      <th>SE2</th>\n",
       "      <th>Not Applicable %</th>\n",
       "      <th>SE3</th>\n",
       "      <th>Invalid %</th>\n",
       "      <th>SE4</th>\n",
       "      <th>No Response %</th>\n",
       "      <th>SE5</th>\n",
       "    </tr>\n",
       "  </thead>\n",
       "  <tbody>\n",
       "    <tr>\n",
       "      <th>0</th>\n",
       "      <td>Australia¹</td>\n",
       "      <td>132043.12617</td>\n",
       "      <td>88.400758</td>\n",
       "      <td>15316.00199</td>\n",
       "      <td>41.755501</td>\n",
       "      <td>2.225752</td>\n",
       "      <td>57.863025</td>\n",
       "      <td>2.214095</td>\n",
       "      <td>0.184356</td>\n",
       "      <td>0.170821</td>\n",
       "      <td>0</td>\n",
       "      <td>0</td>\n",
       "      <td>0</td>\n",
       "      <td>0</td>\n",
       "      <td>0.197118</td>\n",
       "      <td>0.201196</td>\n",
       "    </tr>\n",
       "    <tr>\n",
       "      <th>1</th>\n",
       "      <td>Austria</td>\n",
       "      <td>37299.7258</td>\n",
       "      <td>87.815039</td>\n",
       "      <td>4544.95688</td>\n",
       "      <td>36.545447</td>\n",
       "      <td>2.412592</td>\n",
       "      <td>62.35309</td>\n",
       "      <td>2.460849</td>\n",
       "      <td>0</td>\n",
       "      <td>0</td>\n",
       "      <td>0</td>\n",
       "      <td>0</td>\n",
       "      <td>0</td>\n",
       "      <td>0</td>\n",
       "      <td>1.101462</td>\n",
       "      <td>0.316916</td>\n",
       "    </tr>\n",
       "    <tr>\n",
       "      <th>2</th>\n",
       "      <td>Belgium</td>\n",
       "      <td>65382.65174</td>\n",
       "      <td>88.13084</td>\n",
       "      <td>7760.37187</td>\n",
       "      <td>37.806034</td>\n",
       "      <td>2.071801</td>\n",
       "      <td>61.380969</td>\n",
       "      <td>2.085771</td>\n",
       "      <td>0</td>\n",
       "      <td>0</td>\n",
       "      <td>0</td>\n",
       "      <td>0</td>\n",
       "      <td>0</td>\n",
       "      <td>0</td>\n",
       "      <td>0.812997</td>\n",
       "      <td>0.373515</td>\n",
       "    </tr>\n",
       "    <tr>\n",
       "      <th>3</th>\n",
       "      <td>Canada¹</td>\n",
       "      <td>175476.90315</td>\n",
       "      <td>87.905388</td>\n",
       "      <td>21223.25026</td>\n",
       "      <td>40.543053</td>\n",
       "      <td>2.043787</td>\n",
       "      <td>58.932141</td>\n",
       "      <td>2.042475</td>\n",
       "      <td>0.13259</td>\n",
       "      <td>0.110608</td>\n",
       "      <td>0</td>\n",
       "      <td>0</td>\n",
       "      <td>0</td>\n",
       "      <td>0</td>\n",
       "      <td>0.392216</td>\n",
       "      <td>0.20157</td>\n",
       "    </tr>\n",
       "    <tr>\n",
       "      <th>4</th>\n",
       "      <td>Chile</td>\n",
       "      <td>104634.73308</td>\n",
       "      <td>90.060828</td>\n",
       "      <td>10399.82605</td>\n",
       "      <td>64.306911</td>\n",
       "      <td>2.971223</td>\n",
       "      <td>32.983569</td>\n",
       "      <td>2.825475</td>\n",
       "      <td>0.419809</td>\n",
       "      <td>0.338075</td>\n",
       "      <td>0</td>\n",
       "      <td>0</td>\n",
       "      <td>0</td>\n",
       "      <td>0</td>\n",
       "      <td>2.289711</td>\n",
       "      <td>0.991987</td>\n",
       "    </tr>\n",
       "  </tbody>\n",
       "</table>\n",
       "</div>"
      ],
      "text/plain": [
       "      Country Weighted N - All  Missing % Weighted Valid 0 - No Credit %  \\\n",
       "0  Australia¹     132043.12617  88.400758    15316.00199       41.755501   \n",
       "1     Austria       37299.7258  87.815039     4544.95688       36.545447   \n",
       "2     Belgium      65382.65174   88.13084     7760.37187       37.806034   \n",
       "3     Canada¹     175476.90315  87.905388    21223.25026       40.543053   \n",
       "4       Chile     104634.73308  90.060828    10399.82605       64.306911   \n",
       "\n",
       "         SE Full Credit %       SE1 Not Reached %       SE2 Not Applicable %  \\\n",
       "0  2.225752     57.863025  2.214095      0.184356  0.170821                0   \n",
       "1  2.412592      62.35309  2.460849             0         0                0   \n",
       "2  2.071801     61.380969  2.085771             0         0                0   \n",
       "3  2.043787     58.932141  2.042475       0.13259  0.110608                0   \n",
       "4  2.971223     32.983569  2.825475      0.419809  0.338075                0   \n",
       "\n",
       "  SE3 Invalid % SE4 No Response %       SE5  \n",
       "0   0         0   0      0.197118  0.201196  \n",
       "1   0         0   0      1.101462  0.316916  \n",
       "2   0         0   0      0.812997  0.373515  \n",
       "3   0         0   0      0.392216   0.20157  \n",
       "4   0         0   0      2.289711  0.991987  "
      ]
     },
     "execution_count": 5,
     "metadata": {},
     "output_type": "execute_result"
    }
   ],
   "source": [
    "df.head()"
   ]
  },
  {
   "cell_type": "code",
   "execution_count": 6,
   "id": "34227c17",
   "metadata": {},
   "outputs": [
    {
     "data": {
      "text/html": [
       "<div>\n",
       "<style scoped>\n",
       "    .dataframe tbody tr th:only-of-type {\n",
       "        vertical-align: middle;\n",
       "    }\n",
       "\n",
       "    .dataframe tbody tr th {\n",
       "        vertical-align: top;\n",
       "    }\n",
       "\n",
       "    .dataframe thead th {\n",
       "        text-align: right;\n",
       "    }\n",
       "</style>\n",
       "<table border=\"1\" class=\"dataframe\">\n",
       "  <thead>\n",
       "    <tr style=\"text-align: right;\">\n",
       "      <th></th>\n",
       "      <th>Country</th>\n",
       "      <th>Weighted N - All</th>\n",
       "      <th>Missing %</th>\n",
       "      <th>Weighted Valid</th>\n",
       "      <th>0 - No Credit %</th>\n",
       "      <th>SE</th>\n",
       "      <th>Full Credit %</th>\n",
       "      <th>SE1</th>\n",
       "      <th>Not Reached %</th>\n",
       "      <th>SE2</th>\n",
       "      <th>Not Applicable %</th>\n",
       "      <th>SE3</th>\n",
       "      <th>Invalid %</th>\n",
       "      <th>SE4</th>\n",
       "      <th>No Response %</th>\n",
       "      <th>SE5</th>\n",
       "    </tr>\n",
       "  </thead>\n",
       "  <tbody>\n",
       "    <tr>\n",
       "      <th>77</th>\n",
       "      <td>Ukrainian regions</td>\n",
       "      <td>82894.02477</td>\n",
       "      <td>87.93949</td>\n",
       "      <td>9997.44205</td>\n",
       "      <td>48.261205</td>\n",
       "      <td>4.175858</td>\n",
       "      <td>48.705615</td>\n",
       "      <td>4.491779</td>\n",
       "      <td>2.126981</td>\n",
       "      <td>1.104871</td>\n",
       "      <td>0</td>\n",
       "      <td>0</td>\n",
       "      <td>0</td>\n",
       "      <td>0</td>\n",
       "      <td>0.906199</td>\n",
       "      <td>0.728552</td>\n",
       "    </tr>\n",
       "    <tr>\n",
       "      <th>78</th>\n",
       "      <td>United Arab Emirates</td>\n",
       "      <td>29597.35109</td>\n",
       "      <td>87.363555</td>\n",
       "      <td>3740.05305</td>\n",
       "      <td>56.086773</td>\n",
       "      <td>1.664045</td>\n",
       "      <td>43.484321</td>\n",
       "      <td>1.628179</td>\n",
       "      <td>0.118823</td>\n",
       "      <td>0.067402</td>\n",
       "      <td>0</td>\n",
       "      <td>0</td>\n",
       "      <td>0</td>\n",
       "      <td>0</td>\n",
       "      <td>0.310084</td>\n",
       "      <td>0.201122</td>\n",
       "    </tr>\n",
       "    <tr>\n",
       "      <th>79</th>\n",
       "      <td>Uruguay</td>\n",
       "      <td>20063.78334</td>\n",
       "      <td>89.408447</td>\n",
       "      <td>2125.06622</td>\n",
       "      <td>55.079956</td>\n",
       "      <td>2.80109</td>\n",
       "      <td>41.982872</td>\n",
       "      <td>2.961744</td>\n",
       "      <td>0.510121</td>\n",
       "      <td>0.358526</td>\n",
       "      <td>0</td>\n",
       "      <td>0</td>\n",
       "      <td>0</td>\n",
       "      <td>0</td>\n",
       "      <td>2.427051</td>\n",
       "      <td>0.714523</td>\n",
       "    </tr>\n",
       "    <tr>\n",
       "      <th>80</th>\n",
       "      <td>Uzbekistan</td>\n",
       "      <td>237123.53358</td>\n",
       "      <td>89.357018</td>\n",
       "      <td>25237.01411</td>\n",
       "      <td>76.10953</td>\n",
       "      <td>2.141654</td>\n",
       "      <td>22.876178</td>\n",
       "      <td>2.036168</td>\n",
       "      <td>0</td>\n",
       "      <td>0</td>\n",
       "      <td>0</td>\n",
       "      <td>0</td>\n",
       "      <td>0</td>\n",
       "      <td>0</td>\n",
       "      <td>1.014292</td>\n",
       "      <td>0.507892</td>\n",
       "    </tr>\n",
       "    <tr>\n",
       "      <th>81</th>\n",
       "      <td>Vietnam</td>\n",
       "      <td>NaN</td>\n",
       "      <td>NaN</td>\n",
       "      <td>NaN</td>\n",
       "      <td>NaN</td>\n",
       "      <td>NaN</td>\n",
       "      <td>NaN</td>\n",
       "      <td>NaN</td>\n",
       "      <td>NaN</td>\n",
       "      <td>NaN</td>\n",
       "      <td>NaN</td>\n",
       "      <td>NaN</td>\n",
       "      <td>NaN</td>\n",
       "      <td>NaN</td>\n",
       "      <td>NaN</td>\n",
       "      <td>NaN</td>\n",
       "    </tr>\n",
       "  </tbody>\n",
       "</table>\n",
       "</div>"
      ],
      "text/plain": [
       "                 Country Weighted N - All  Missing % Weighted Valid  \\\n",
       "77     Ukrainian regions      82894.02477   87.93949     9997.44205   \n",
       "78  United Arab Emirates      29597.35109  87.363555     3740.05305   \n",
       "79               Uruguay      20063.78334  89.408447     2125.06622   \n",
       "80            Uzbekistan     237123.53358  89.357018    25237.01411   \n",
       "81               Vietnam              NaN        NaN            NaN   \n",
       "\n",
       "   0 - No Credit %        SE Full Credit %       SE1 Not Reached %       SE2  \\\n",
       "77       48.261205  4.175858     48.705615  4.491779      2.126981  1.104871   \n",
       "78       56.086773  1.664045     43.484321  1.628179      0.118823  0.067402   \n",
       "79       55.079956   2.80109     41.982872  2.961744      0.510121  0.358526   \n",
       "80        76.10953  2.141654     22.876178  2.036168             0         0   \n",
       "81             NaN       NaN           NaN       NaN           NaN       NaN   \n",
       "\n",
       "   Not Applicable %  SE3 Invalid %  SE4 No Response %       SE5  \n",
       "77                0    0         0    0      0.906199  0.728552  \n",
       "78                0    0         0    0      0.310084  0.201122  \n",
       "79                0    0         0    0      2.427051  0.714523  \n",
       "80                0    0         0    0      1.014292  0.507892  \n",
       "81              NaN  NaN       NaN  NaN           NaN       NaN  "
      ]
     },
     "execution_count": 6,
     "metadata": {},
     "output_type": "execute_result"
    }
   ],
   "source": [
    "df.tail()"
   ]
  },
  {
   "cell_type": "code",
   "execution_count": 7,
   "id": "10bc87e4",
   "metadata": {},
   "outputs": [
    {
     "data": {
      "text/plain": [
       "(82, 16)"
      ]
     },
     "execution_count": 7,
     "metadata": {},
     "output_type": "execute_result"
    }
   ],
   "source": [
    "df.shape"
   ]
  },
  {
   "cell_type": "code",
   "execution_count": 8,
   "id": "92ed4a17",
   "metadata": {},
   "outputs": [
    {
     "name": "stdout",
     "output_type": "stream",
     "text": [
      "<class 'pandas.core.frame.DataFrame'>\n",
      "RangeIndex: 82 entries, 0 to 81\n",
      "Data columns (total 16 columns):\n",
      " #   Column            Non-Null Count  Dtype \n",
      "---  ------            --------------  ----- \n",
      " 0   Country           82 non-null     object\n",
      " 1   Weighted N - All  77 non-null     object\n",
      " 2   Missing %         77 non-null     object\n",
      " 3   Weighted Valid    77 non-null     object\n",
      " 4   0 - No Credit %   77 non-null     object\n",
      " 5   SE                77 non-null     object\n",
      " 6   Full Credit %     77 non-null     object\n",
      " 7   SE1               77 non-null     object\n",
      " 8   Not Reached %     77 non-null     object\n",
      " 9   SE2               77 non-null     object\n",
      " 10  Not Applicable %  77 non-null     object\n",
      " 11  SE3               77 non-null     object\n",
      " 12  Invalid %         77 non-null     object\n",
      " 13  SE4               77 non-null     object\n",
      " 14  No Response %     77 non-null     object\n",
      " 15  SE5               77 non-null     object\n",
      "dtypes: object(16)\n",
      "memory usage: 10.4+ KB\n"
     ]
    }
   ],
   "source": [
    "df.info()"
   ]
  },
  {
   "cell_type": "code",
   "execution_count": 9,
   "id": "d8b50dba",
   "metadata": {},
   "outputs": [
    {
     "data": {
      "text/html": [
       "<div>\n",
       "<style scoped>\n",
       "    .dataframe tbody tr th:only-of-type {\n",
       "        vertical-align: middle;\n",
       "    }\n",
       "\n",
       "    .dataframe tbody tr th {\n",
       "        vertical-align: top;\n",
       "    }\n",
       "\n",
       "    .dataframe thead th {\n",
       "        text-align: right;\n",
       "    }\n",
       "</style>\n",
       "<table border=\"1\" class=\"dataframe\">\n",
       "  <thead>\n",
       "    <tr style=\"text-align: right;\">\n",
       "      <th></th>\n",
       "      <th>count</th>\n",
       "      <th>unique</th>\n",
       "      <th>top</th>\n",
       "      <th>freq</th>\n",
       "    </tr>\n",
       "  </thead>\n",
       "  <tbody>\n",
       "    <tr>\n",
       "      <th>Country</th>\n",
       "      <td>82</td>\n",
       "      <td>82</td>\n",
       "      <td>Australia¹</td>\n",
       "      <td>1</td>\n",
       "    </tr>\n",
       "    <tr>\n",
       "      <th>Weighted N - All</th>\n",
       "      <td>77.0</td>\n",
       "      <td>77.0</td>\n",
       "      <td>132043.12617</td>\n",
       "      <td>1.0</td>\n",
       "    </tr>\n",
       "    <tr>\n",
       "      <th>Missing %</th>\n",
       "      <td>77.0</td>\n",
       "      <td>77.0</td>\n",
       "      <td>88.400758</td>\n",
       "      <td>1.0</td>\n",
       "    </tr>\n",
       "    <tr>\n",
       "      <th>Weighted Valid</th>\n",
       "      <td>77.0</td>\n",
       "      <td>77.0</td>\n",
       "      <td>15316.00199</td>\n",
       "      <td>1.0</td>\n",
       "    </tr>\n",
       "    <tr>\n",
       "      <th>0 - No Credit %</th>\n",
       "      <td>77.0</td>\n",
       "      <td>77.0</td>\n",
       "      <td>41.755501</td>\n",
       "      <td>1.0</td>\n",
       "    </tr>\n",
       "    <tr>\n",
       "      <th>SE</th>\n",
       "      <td>77.0</td>\n",
       "      <td>77.0</td>\n",
       "      <td>2.225752</td>\n",
       "      <td>1.0</td>\n",
       "    </tr>\n",
       "    <tr>\n",
       "      <th>Full Credit %</th>\n",
       "      <td>77.0</td>\n",
       "      <td>77.0</td>\n",
       "      <td>57.863025</td>\n",
       "      <td>1.0</td>\n",
       "    </tr>\n",
       "    <tr>\n",
       "      <th>SE1</th>\n",
       "      <td>77.0</td>\n",
       "      <td>77.0</td>\n",
       "      <td>2.214095</td>\n",
       "      <td>1.0</td>\n",
       "    </tr>\n",
       "    <tr>\n",
       "      <th>Not Reached %</th>\n",
       "      <td>77</td>\n",
       "      <td>50</td>\n",
       "      <td>0</td>\n",
       "      <td>28</td>\n",
       "    </tr>\n",
       "    <tr>\n",
       "      <th>SE2</th>\n",
       "      <td>77</td>\n",
       "      <td>50</td>\n",
       "      <td>0</td>\n",
       "      <td>28</td>\n",
       "    </tr>\n",
       "    <tr>\n",
       "      <th>Not Applicable %</th>\n",
       "      <td>77</td>\n",
       "      <td>1</td>\n",
       "      <td>0</td>\n",
       "      <td>77</td>\n",
       "    </tr>\n",
       "    <tr>\n",
       "      <th>SE3</th>\n",
       "      <td>77</td>\n",
       "      <td>1</td>\n",
       "      <td>0</td>\n",
       "      <td>77</td>\n",
       "    </tr>\n",
       "    <tr>\n",
       "      <th>Invalid %</th>\n",
       "      <td>77</td>\n",
       "      <td>1</td>\n",
       "      <td>0</td>\n",
       "      <td>77</td>\n",
       "    </tr>\n",
       "    <tr>\n",
       "      <th>SE4</th>\n",
       "      <td>77</td>\n",
       "      <td>1</td>\n",
       "      <td>0</td>\n",
       "      <td>77</td>\n",
       "    </tr>\n",
       "    <tr>\n",
       "      <th>No Response %</th>\n",
       "      <td>77</td>\n",
       "      <td>72</td>\n",
       "      <td>0</td>\n",
       "      <td>6</td>\n",
       "    </tr>\n",
       "    <tr>\n",
       "      <th>SE5</th>\n",
       "      <td>77</td>\n",
       "      <td>72</td>\n",
       "      <td>0</td>\n",
       "      <td>6</td>\n",
       "    </tr>\n",
       "  </tbody>\n",
       "</table>\n",
       "</div>"
      ],
      "text/plain": [
       "                 count unique           top freq\n",
       "Country             82     82    Australia¹    1\n",
       "Weighted N - All  77.0   77.0  132043.12617  1.0\n",
       "Missing %         77.0   77.0     88.400758  1.0\n",
       "Weighted Valid    77.0   77.0   15316.00199  1.0\n",
       "0 - No Credit %   77.0   77.0     41.755501  1.0\n",
       "SE                77.0   77.0      2.225752  1.0\n",
       "Full Credit %     77.0   77.0     57.863025  1.0\n",
       "SE1               77.0   77.0      2.214095  1.0\n",
       "Not Reached %       77     50             0   28\n",
       "SE2                 77     50             0   28\n",
       "Not Applicable %    77      1             0   77\n",
       "SE3                 77      1             0   77\n",
       "Invalid %           77      1             0   77\n",
       "SE4                 77      1             0   77\n",
       "No Response %       77     72             0    6\n",
       "SE5                 77     72             0    6"
      ]
     },
     "execution_count": 9,
     "metadata": {},
     "output_type": "execute_result"
    }
   ],
   "source": [
    "df.describe().T"
   ]
  },
  {
   "cell_type": "code",
   "execution_count": 10,
   "id": "bc3b5ec6",
   "metadata": {},
   "outputs": [
    {
     "data": {
      "text/plain": [
       "Country             0\n",
       "Weighted N - All    5\n",
       "Missing %           5\n",
       "Weighted Valid      5\n",
       "0 - No Credit %     5\n",
       "SE                  5\n",
       "Full Credit %       5\n",
       "SE1                 5\n",
       "Not Reached %       5\n",
       "SE2                 5\n",
       "Not Applicable %    5\n",
       "SE3                 5\n",
       "Invalid %           5\n",
       "SE4                 5\n",
       "No Response %       5\n",
       "SE5                 5\n",
       "dtype: int64"
      ]
     },
     "execution_count": 10,
     "metadata": {},
     "output_type": "execute_result"
    }
   ],
   "source": [
    "df.isna().sum()"
   ]
  },
  {
   "cell_type": "code",
   "execution_count": 11,
   "id": "20847588",
   "metadata": {},
   "outputs": [],
   "source": [
    "df.dropna(inplace=True)"
   ]
  },
  {
   "cell_type": "markdown",
   "id": "73f5565f",
   "metadata": {},
   "source": [
    "# Features"
   ]
  },
  {
   "cell_type": "markdown",
   "id": "b872c9ec",
   "metadata": {},
   "source": [
    "## Country"
   ]
  },
  {
   "cell_type": "code",
   "execution_count": 12,
   "id": "702e1113",
   "metadata": {},
   "outputs": [
    {
     "data": {
      "text/plain": [
       "array(['Australia¹', 'Austria', 'Belgium', 'Canada¹', 'Chile', 'Colombia',\n",
       "       'Costa Rica', 'Czech Republic', 'Denmark¹', 'Estonia', 'Finland',\n",
       "       'France', 'Germany', 'Greece', 'Hungary', 'Iceland', 'Ireland¹',\n",
       "       'Israel²', 'Italy', 'Japan', 'Korea', 'Latvia¹', 'Lithuania',\n",
       "       'Mexico', 'Netherlands¹', 'New Zealand¹', 'Norway', 'Poland',\n",
       "       'Portugal', 'Slovak Republic', 'Slovenia', 'Spain', 'Sweden',\n",
       "       'Switzerland', 'Turkey', 'United Kingdom¹', 'United States¹',\n",
       "       'Albania', 'Argentina', 'Azerbaijan', 'Brazil',\n",
       "       'Brunei Darussalam', 'Bulgaria', 'Croatia', 'Cyprus³',\n",
       "       'Dominican Republic', 'El Salvador', 'Georgia', 'Hong Kong¹',\n",
       "       'Indonesia', 'Jamaica¹', 'Jordan', 'Kazakhstan', 'Kosovo⁴',\n",
       "       'Macao', 'Malaysia', 'Malta', 'Republic of Moldova', 'Mongolia',\n",
       "       'Montenegro', 'Morocco', 'North Macedonia⁵',\n",
       "       'Palestinian Authority', 'Panama¹', 'Peru', 'Philippines', 'Qatar',\n",
       "       'Romania', 'Saudi Arabia', 'Serbia', 'Singapore', 'Chinese Taipei',\n",
       "       'Thailand', 'Ukrainian regions', 'United Arab Emirates', 'Uruguay',\n",
       "       'Uzbekistan'], dtype=object)"
      ]
     },
     "execution_count": 12,
     "metadata": {},
     "output_type": "execute_result"
    }
   ],
   "source": [
    "df[\"Country\"].unique()"
   ]
  },
  {
   "cell_type": "code",
   "execution_count": 13,
   "id": "14c8c5a2",
   "metadata": {},
   "outputs": [
    {
     "data": {
      "text/plain": [
       "77"
      ]
     },
     "execution_count": 13,
     "metadata": {},
     "output_type": "execute_result"
    }
   ],
   "source": [
    "df[\"Country\"].nunique()"
   ]
  },
  {
   "cell_type": "code",
   "execution_count": 14,
   "id": "5a3fc3e5",
   "metadata": {},
   "outputs": [
    {
     "data": {
      "text/plain": [
       "Country\n",
       "Australia¹      1\n",
       "Indonesia       1\n",
       "Malta           1\n",
       "Malaysia        1\n",
       "Macao           1\n",
       "               ..\n",
       "New Zealand¹    1\n",
       "Netherlands¹    1\n",
       "Mexico          1\n",
       "Lithuania       1\n",
       "Uzbekistan      1\n",
       "Name: count, Length: 77, dtype: int64"
      ]
     },
     "execution_count": 14,
     "metadata": {},
     "output_type": "execute_result"
    }
   ],
   "source": [
    "df[\"Country\"].value_counts()"
   ]
  },
  {
   "cell_type": "code",
   "execution_count": 15,
   "id": "ab09968a",
   "metadata": {},
   "outputs": [
    {
     "data": {
      "text/html": [
       "<div>\n",
       "<style scoped>\n",
       "    .dataframe tbody tr th:only-of-type {\n",
       "        vertical-align: middle;\n",
       "    }\n",
       "\n",
       "    .dataframe tbody tr th {\n",
       "        vertical-align: top;\n",
       "    }\n",
       "\n",
       "    .dataframe thead th {\n",
       "        text-align: right;\n",
       "    }\n",
       "</style>\n",
       "<table border=\"1\" class=\"dataframe\">\n",
       "  <thead>\n",
       "    <tr style=\"text-align: right;\">\n",
       "      <th></th>\n",
       "      <th>Country</th>\n",
       "      <th>Weighted N - All</th>\n",
       "      <th>Missing %</th>\n",
       "      <th>Weighted Valid</th>\n",
       "      <th>0 - No Credit %</th>\n",
       "      <th>SE</th>\n",
       "      <th>Full Credit %</th>\n",
       "      <th>SE1</th>\n",
       "      <th>Not Reached %</th>\n",
       "      <th>SE2</th>\n",
       "      <th>Not Applicable %</th>\n",
       "      <th>SE3</th>\n",
       "      <th>Invalid %</th>\n",
       "      <th>SE4</th>\n",
       "      <th>No Response %</th>\n",
       "      <th>SE5</th>\n",
       "    </tr>\n",
       "  </thead>\n",
       "  <tbody>\n",
       "    <tr>\n",
       "      <th>0</th>\n",
       "      <td>Australia¹</td>\n",
       "      <td>132043.12617</td>\n",
       "      <td>88.400758</td>\n",
       "      <td>15316.00199</td>\n",
       "      <td>41.755501</td>\n",
       "      <td>2.225752</td>\n",
       "      <td>57.863025</td>\n",
       "      <td>2.214095</td>\n",
       "      <td>0.184356</td>\n",
       "      <td>0.170821</td>\n",
       "      <td>0</td>\n",
       "      <td>0</td>\n",
       "      <td>0</td>\n",
       "      <td>0</td>\n",
       "      <td>0.197118</td>\n",
       "      <td>0.201196</td>\n",
       "    </tr>\n",
       "    <tr>\n",
       "      <th>1</th>\n",
       "      <td>Austria</td>\n",
       "      <td>37299.7258</td>\n",
       "      <td>87.815039</td>\n",
       "      <td>4544.95688</td>\n",
       "      <td>36.545447</td>\n",
       "      <td>2.412592</td>\n",
       "      <td>62.35309</td>\n",
       "      <td>2.460849</td>\n",
       "      <td>0</td>\n",
       "      <td>0</td>\n",
       "      <td>0</td>\n",
       "      <td>0</td>\n",
       "      <td>0</td>\n",
       "      <td>0</td>\n",
       "      <td>1.101462</td>\n",
       "      <td>0.316916</td>\n",
       "    </tr>\n",
       "    <tr>\n",
       "      <th>2</th>\n",
       "      <td>Belgium</td>\n",
       "      <td>65382.65174</td>\n",
       "      <td>88.13084</td>\n",
       "      <td>7760.37187</td>\n",
       "      <td>37.806034</td>\n",
       "      <td>2.071801</td>\n",
       "      <td>61.380969</td>\n",
       "      <td>2.085771</td>\n",
       "      <td>0</td>\n",
       "      <td>0</td>\n",
       "      <td>0</td>\n",
       "      <td>0</td>\n",
       "      <td>0</td>\n",
       "      <td>0</td>\n",
       "      <td>0.812997</td>\n",
       "      <td>0.373515</td>\n",
       "    </tr>\n",
       "    <tr>\n",
       "      <th>3</th>\n",
       "      <td>Canada¹</td>\n",
       "      <td>175476.90315</td>\n",
       "      <td>87.905388</td>\n",
       "      <td>21223.25026</td>\n",
       "      <td>40.543053</td>\n",
       "      <td>2.043787</td>\n",
       "      <td>58.932141</td>\n",
       "      <td>2.042475</td>\n",
       "      <td>0.13259</td>\n",
       "      <td>0.110608</td>\n",
       "      <td>0</td>\n",
       "      <td>0</td>\n",
       "      <td>0</td>\n",
       "      <td>0</td>\n",
       "      <td>0.392216</td>\n",
       "      <td>0.20157</td>\n",
       "    </tr>\n",
       "    <tr>\n",
       "      <th>4</th>\n",
       "      <td>Chile</td>\n",
       "      <td>104634.73308</td>\n",
       "      <td>90.060828</td>\n",
       "      <td>10399.82605</td>\n",
       "      <td>64.306911</td>\n",
       "      <td>2.971223</td>\n",
       "      <td>32.983569</td>\n",
       "      <td>2.825475</td>\n",
       "      <td>0.419809</td>\n",
       "      <td>0.338075</td>\n",
       "      <td>0</td>\n",
       "      <td>0</td>\n",
       "      <td>0</td>\n",
       "      <td>0</td>\n",
       "      <td>2.289711</td>\n",
       "      <td>0.991987</td>\n",
       "    </tr>\n",
       "    <tr>\n",
       "      <th>...</th>\n",
       "      <td>...</td>\n",
       "      <td>...</td>\n",
       "      <td>...</td>\n",
       "      <td>...</td>\n",
       "      <td>...</td>\n",
       "      <td>...</td>\n",
       "      <td>...</td>\n",
       "      <td>...</td>\n",
       "      <td>...</td>\n",
       "      <td>...</td>\n",
       "      <td>...</td>\n",
       "      <td>...</td>\n",
       "      <td>...</td>\n",
       "      <td>...</td>\n",
       "      <td>...</td>\n",
       "      <td>...</td>\n",
       "    </tr>\n",
       "    <tr>\n",
       "      <th>76</th>\n",
       "      <td>Thailand</td>\n",
       "      <td>313755.11978</td>\n",
       "      <td>88.36577</td>\n",
       "      <td>36502.99149</td>\n",
       "      <td>43.56088</td>\n",
       "      <td>2.7158</td>\n",
       "      <td>55.266005</td>\n",
       "      <td>2.795218</td>\n",
       "      <td>0</td>\n",
       "      <td>0</td>\n",
       "      <td>0</td>\n",
       "      <td>0</td>\n",
       "      <td>0</td>\n",
       "      <td>0</td>\n",
       "      <td>1.173115</td>\n",
       "      <td>0.69584</td>\n",
       "    </tr>\n",
       "    <tr>\n",
       "      <th>77</th>\n",
       "      <td>Ukrainian regions</td>\n",
       "      <td>82894.02477</td>\n",
       "      <td>87.93949</td>\n",
       "      <td>9997.44205</td>\n",
       "      <td>48.261205</td>\n",
       "      <td>4.175858</td>\n",
       "      <td>48.705615</td>\n",
       "      <td>4.491779</td>\n",
       "      <td>2.126981</td>\n",
       "      <td>1.104871</td>\n",
       "      <td>0</td>\n",
       "      <td>0</td>\n",
       "      <td>0</td>\n",
       "      <td>0</td>\n",
       "      <td>0.906199</td>\n",
       "      <td>0.728552</td>\n",
       "    </tr>\n",
       "    <tr>\n",
       "      <th>78</th>\n",
       "      <td>United Arab Emirates</td>\n",
       "      <td>29597.35109</td>\n",
       "      <td>87.363555</td>\n",
       "      <td>3740.05305</td>\n",
       "      <td>56.086773</td>\n",
       "      <td>1.664045</td>\n",
       "      <td>43.484321</td>\n",
       "      <td>1.628179</td>\n",
       "      <td>0.118823</td>\n",
       "      <td>0.067402</td>\n",
       "      <td>0</td>\n",
       "      <td>0</td>\n",
       "      <td>0</td>\n",
       "      <td>0</td>\n",
       "      <td>0.310084</td>\n",
       "      <td>0.201122</td>\n",
       "    </tr>\n",
       "    <tr>\n",
       "      <th>79</th>\n",
       "      <td>Uruguay</td>\n",
       "      <td>20063.78334</td>\n",
       "      <td>89.408447</td>\n",
       "      <td>2125.06622</td>\n",
       "      <td>55.079956</td>\n",
       "      <td>2.80109</td>\n",
       "      <td>41.982872</td>\n",
       "      <td>2.961744</td>\n",
       "      <td>0.510121</td>\n",
       "      <td>0.358526</td>\n",
       "      <td>0</td>\n",
       "      <td>0</td>\n",
       "      <td>0</td>\n",
       "      <td>0</td>\n",
       "      <td>2.427051</td>\n",
       "      <td>0.714523</td>\n",
       "    </tr>\n",
       "    <tr>\n",
       "      <th>80</th>\n",
       "      <td>Uzbekistan</td>\n",
       "      <td>237123.53358</td>\n",
       "      <td>89.357018</td>\n",
       "      <td>25237.01411</td>\n",
       "      <td>76.10953</td>\n",
       "      <td>2.141654</td>\n",
       "      <td>22.876178</td>\n",
       "      <td>2.036168</td>\n",
       "      <td>0</td>\n",
       "      <td>0</td>\n",
       "      <td>0</td>\n",
       "      <td>0</td>\n",
       "      <td>0</td>\n",
       "      <td>0</td>\n",
       "      <td>1.014292</td>\n",
       "      <td>0.507892</td>\n",
       "    </tr>\n",
       "  </tbody>\n",
       "</table>\n",
       "<p>77 rows × 16 columns</p>\n",
       "</div>"
      ],
      "text/plain": [
       "                 Country Weighted N - All  Missing % Weighted Valid  \\\n",
       "0             Australia¹     132043.12617  88.400758    15316.00199   \n",
       "1                Austria       37299.7258  87.815039     4544.95688   \n",
       "2                Belgium      65382.65174   88.13084     7760.37187   \n",
       "3                Canada¹     175476.90315  87.905388    21223.25026   \n",
       "4                  Chile     104634.73308  90.060828    10399.82605   \n",
       "..                   ...              ...        ...            ...   \n",
       "76              Thailand     313755.11978   88.36577    36502.99149   \n",
       "77     Ukrainian regions      82894.02477   87.93949     9997.44205   \n",
       "78  United Arab Emirates      29597.35109  87.363555     3740.05305   \n",
       "79               Uruguay      20063.78334  89.408447     2125.06622   \n",
       "80            Uzbekistan     237123.53358  89.357018    25237.01411   \n",
       "\n",
       "   0 - No Credit %        SE Full Credit %       SE1 Not Reached %       SE2  \\\n",
       "0        41.755501  2.225752     57.863025  2.214095      0.184356  0.170821   \n",
       "1        36.545447  2.412592      62.35309  2.460849             0         0   \n",
       "2        37.806034  2.071801     61.380969  2.085771             0         0   \n",
       "3        40.543053  2.043787     58.932141  2.042475       0.13259  0.110608   \n",
       "4        64.306911  2.971223     32.983569  2.825475      0.419809  0.338075   \n",
       "..             ...       ...           ...       ...           ...       ...   \n",
       "76        43.56088    2.7158     55.266005  2.795218             0         0   \n",
       "77       48.261205  4.175858     48.705615  4.491779      2.126981  1.104871   \n",
       "78       56.086773  1.664045     43.484321  1.628179      0.118823  0.067402   \n",
       "79       55.079956   2.80109     41.982872  2.961744      0.510121  0.358526   \n",
       "80        76.10953  2.141654     22.876178  2.036168             0         0   \n",
       "\n",
       "   Not Applicable % SE3 Invalid % SE4 No Response %       SE5  \n",
       "0                 0   0         0   0      0.197118  0.201196  \n",
       "1                 0   0         0   0      1.101462  0.316916  \n",
       "2                 0   0         0   0      0.812997  0.373515  \n",
       "3                 0   0         0   0      0.392216   0.20157  \n",
       "4                 0   0         0   0      2.289711  0.991987  \n",
       "..              ...  ..       ...  ..           ...       ...  \n",
       "76                0   0         0   0      1.173115   0.69584  \n",
       "77                0   0         0   0      0.906199  0.728552  \n",
       "78                0   0         0   0      0.310084  0.201122  \n",
       "79                0   0         0   0      2.427051  0.714523  \n",
       "80                0   0         0   0      1.014292  0.507892  \n",
       "\n",
       "[77 rows x 16 columns]"
      ]
     },
     "execution_count": 15,
     "metadata": {},
     "output_type": "execute_result"
    }
   ],
   "source": [
    "df"
   ]
  },
  {
   "cell_type": "markdown",
   "id": "e8407da8",
   "metadata": {},
   "source": [
    "## Weighted N - All"
   ]
  },
  {
   "cell_type": "code",
   "execution_count": 16,
   "id": "1f7b65c6",
   "metadata": {},
   "outputs": [],
   "source": [
    "feature = \"Weighted N - All\""
   ]
  },
  {
   "cell_type": "code",
   "execution_count": 17,
   "id": "e2e26f0d",
   "metadata": {},
   "outputs": [
    {
     "data": {
      "image/png": "[encoded data removed]",
      "text/plain": [
       "<Figure size 500x500 with 1 Axes>"
      ]
     },
     "metadata": {},
     "output_type": "display_data"
    }
   ],
   "source": [
    "sns.displot(df[feature]);"
   ]
  },
  {
   "cell_type": "markdown",
   "id": "35562b63",
   "metadata": {},
   "source": [
    "## Missing %"
   ]
  },
  {
   "cell_type": "code",
   "execution_count": 18,
   "id": "5f490640",
   "metadata": {},
   "outputs": [],
   "source": [
    "feature = \"Missing %\""
   ]
  },
  {
   "cell_type": "code",
   "execution_count": 19,
   "id": "897f79a7",
   "metadata": {},
   "outputs": [
    {
     "data": {
      "image/png": "[encoded data removed]",
      "text/plain": [
       "<Figure size 500x500 with 1 Axes>"
      ]
     },
     "metadata": {},
     "output_type": "display_data"
    }
   ],
   "source": [
    "sns.displot(df[feature]);"
   ]
  },
  {
   "cell_type": "markdown",
   "id": "df753f1c",
   "metadata": {},
   "source": [
    "## Weighted Valid"
   ]
  },
  {
   "cell_type": "code",
   "execution_count": 20,
   "id": "1af87147",
   "metadata": {},
   "outputs": [],
   "source": [
    "feature = \"Weighted Valid\""
   ]
  },
  {
   "cell_type": "code",
   "execution_count": 21,
   "id": "be34f8fb",
   "metadata": {},
   "outputs": [
    {
     "data": {
      "image/png": "[encoded data removed]",
      "text/plain": [
       "<Figure size 500x500 with 1 Axes>"
      ]
     },
     "metadata": {},
     "output_type": "display_data"
    }
   ],
   "source": [
    "sns.displot(df[feature]);"
   ]
  },
  {
   "cell_type": "markdown",
   "id": "1a460057",
   "metadata": {},
   "source": [
    "## 0 - No Credit %"
   ]
  },
  {
   "cell_type": "code",
   "execution_count": 22,
   "id": "53e8a1f6",
   "metadata": {},
   "outputs": [],
   "source": [
    "feature = \"0 - No Credit %\""
   ]
  },
  {
   "cell_type": "code",
   "execution_count": 23,
   "id": "7ed2c745",
   "metadata": {},
   "outputs": [
    {
     "data": {
      "image/png": "[encoded data removed]",
      "text/plain": [
       "<Figure size 500x500 with 1 Axes>"
      ]
     },
     "metadata": {},
     "output_type": "display_data"
    }
   ],
   "source": [
    "sns.displot(df[feature]);"
   ]
  },
  {
   "cell_type": "markdown",
   "id": "b46c4949",
   "metadata": {},
   "source": [
    "## SE"
   ]
  },
  {
   "cell_type": "code",
   "execution_count": 24,
   "id": "b95564df",
   "metadata": {},
   "outputs": [],
   "source": [
    "feature = \"SE\""
   ]
  },
  {
   "cell_type": "code",
   "execution_count": 25,
   "id": "2881377c",
   "metadata": {},
   "outputs": [
    {
     "data": {
      "image/png": "[encoded data removed]",
      "text/plain": [
       "<Figure size 500x500 with 1 Axes>"
      ]
     },
     "metadata": {},
     "output_type": "display_data"
    }
   ],
   "source": [
    "sns.displot(df[feature]);"
   ]
  },
  {
   "cell_type": "markdown",
   "id": "e2067752",
   "metadata": {},
   "source": [
    "## Full Credit %"
   ]
  },
  {
   "cell_type": "code",
   "execution_count": 26,
   "id": "0b0d0478",
   "metadata": {},
   "outputs": [],
   "source": [
    "feature = \"Full Credit %\""
   ]
  },
  {
   "cell_type": "code",
   "execution_count": 27,
   "id": "ab1b7dbc",
   "metadata": {},
   "outputs": [
    {
     "data": {
      "image/png": "[encoded data removed]",
      "text/plain": [
       "<Figure size 500x500 with 1 Axes>"
      ]
     },
     "metadata": {},
     "output_type": "display_data"
    }
   ],
   "source": [
    "sns.displot(df[feature]);"
   ]
  },
  {
   "cell_type": "markdown",
   "id": "aff8e74d",
   "metadata": {},
   "source": [
    "## SE1"
   ]
  },
  {
   "cell_type": "code",
   "execution_count": 28,
   "id": "5abcf09d",
   "metadata": {},
   "outputs": [],
   "source": [
    "feature = \"SE1\""
   ]
  },
  {
   "cell_type": "code",
   "execution_count": 29,
   "id": "196ae3af",
   "metadata": {},
   "outputs": [
    {
     "data": {
      "image/png": "[encoded data removed]",
      "text/plain": [
       "<Figure size 500x500 with 1 Axes>"
      ]
     },
     "metadata": {},
     "output_type": "display_data"
    }
   ],
   "source": [
    "sns.displot(df[feature]);"
   ]
  },
  {
   "cell_type": "markdown",
   "id": "5e6c3a04",
   "metadata": {},
   "source": [
    "## Not Reached %"
   ]
  },
  {
   "cell_type": "code",
   "execution_count": 30,
   "id": "c5b00f14",
   "metadata": {},
   "outputs": [],
   "source": [
    "feature = \"Not Reached %\""
   ]
  },
  {
   "cell_type": "code",
   "execution_count": 31,
   "id": "d7276ecb",
   "metadata": {},
   "outputs": [
    {
     "data": {
      "image/png": "[encoded data removed]",
      "text/plain": [
       "<Figure size 500x500 with 1 Axes>"
      ]
     },
     "metadata": {},
     "output_type": "display_data"
    }
   ],
   "source": [
    "sns.displot(df[feature]);"
   ]
  },
  {
   "cell_type": "markdown",
   "id": "bbdc8666",
   "metadata": {},
   "source": [
    "## SE2"
   ]
  },
  {
   "cell_type": "code",
   "execution_count": 32,
   "id": "81dbd9b8",
   "metadata": {},
   "outputs": [],
   "source": [
    "feature = \"SE2\""
   ]
  },
  {
   "cell_type": "code",
   "execution_count": 33,
   "id": "12f0c984",
   "metadata": {},
   "outputs": [
    {
     "data": {
      "image/png": "[encoded data removed]",
      "text/plain": [
       "<Figure size 500x500 with 1 Axes>"
      ]
     },
     "metadata": {},
     "output_type": "display_data"
    }
   ],
   "source": [
    "sns.displot(df[feature]);"
   ]
  },
  {
   "cell_type": "markdown",
   "id": "b569738f",
   "metadata": {},
   "source": [
    "## Not Applicable %"
   ]
  },
  {
   "cell_type": "code",
   "execution_count": 34,
   "id": "ebbc47f7",
   "metadata": {},
   "outputs": [],
   "source": [
    "feature = \"Not Applicable %\""
   ]
  },
  {
   "cell_type": "code",
   "execution_count": 35,
   "id": "04251221",
   "metadata": {},
   "outputs": [
    {
     "data": {
      "image/png": "[encoded data removed]",
      "text/plain": [
       "<Figure size 500x500 with 1 Axes>"
      ]
     },
     "metadata": {},
     "output_type": "display_data"
    }
   ],
   "source": [
    "sns.displot(df[feature]);"
   ]
  },
  {
   "cell_type": "markdown",
   "id": "017bf520",
   "metadata": {},
   "source": [
    "## SE3"
   ]
  },
  {
   "cell_type": "code",
   "execution_count": 36,
   "id": "c9336be6",
   "metadata": {},
   "outputs": [],
   "source": [
    "feature = \"SE3\""
   ]
  },
  {
   "cell_type": "code",
   "execution_count": 37,
   "id": "ca0f57f8",
   "metadata": {},
   "outputs": [
    {
     "data": {
      "image/png": "[encoded data removed]",
      "text/plain": [
       "<Figure size 500x500 with 1 Axes>"
      ]
     },
     "metadata": {},
     "output_type": "display_data"
    }
   ],
   "source": [
    "sns.displot(df[feature]);"
   ]
  },
  {
   "cell_type": "markdown",
   "id": "28014fc0",
   "metadata": {},
   "source": [
    "## Invalid %"
   ]
  },
  {
   "cell_type": "code",
   "execution_count": 38,
   "id": "8907f7f4",
   "metadata": {},
   "outputs": [],
   "source": [
    "feature = \"Invalid %\""
   ]
  },
  {
   "cell_type": "code",
   "execution_count": 39,
   "id": "be807e4c",
   "metadata": {},
   "outputs": [
    {
     "data": {
      "image/png": "[encoded data removed]",
      "text/plain": [
       "<Figure size 500x500 with 1 Axes>"
      ]
     },
     "metadata": {},
     "output_type": "display_data"
    }
   ],
   "source": [
    "sns.displot(df[feature]);"
   ]
  },
  {
   "cell_type": "markdown",
   "id": "5a91cb7a",
   "metadata": {},
   "source": [
    "## SE4"
   ]
  },
  {
   "cell_type": "code",
   "execution_count": 40,
   "id": "03bb3b2e",
   "metadata": {},
   "outputs": [],
   "source": [
    "feature = \"SE4\""
   ]
  },
  {
   "cell_type": "code",
   "execution_count": 41,
   "id": "765f6652",
   "metadata": {},
   "outputs": [
    {
     "data": {
      "image/png": "[encoded data removed]",
      "text/plain": [
       "<Figure size 500x500 with 1 Axes>"
      ]
     },
     "metadata": {},
     "output_type": "display_data"
    }
   ],
   "source": [
    "sns.displot(df[feature]);"
   ]
  },
  {
   "cell_type": "markdown",
   "id": "a5d02cf6",
   "metadata": {},
   "source": [
    "## No Response %"
   ]
  },
  {
   "cell_type": "code",
   "execution_count": 42,
   "id": "02267685",
   "metadata": {},
   "outputs": [],
   "source": [
    "feature = 'No Response %'"
   ]
  },
  {
   "cell_type": "code",
   "execution_count": 43,
   "id": "6ef387e1",
   "metadata": {
    "scrolled": false
   },
   "outputs": [
    {
     "data": {
      "image/png": "[encoded data removed]",
      "text/plain": [
       "<Figure size 500x500 with 1 Axes>"
      ]
     },
     "metadata": {},
     "output_type": "display_data"
    }
   ],
   "source": [
    "sns.displot(df[feature]);"
   ]
  },
  {
   "cell_type": "markdown",
   "id": "57830e9e",
   "metadata": {},
   "source": [
    "## SE5"
   ]
  },
  {
   "cell_type": "code",
   "execution_count": 44,
   "id": "84159833",
   "metadata": {},
   "outputs": [],
   "source": [
    "feature = \"SE5\""
   ]
  },
  {
   "cell_type": "code",
   "execution_count": 45,
   "id": "1db50287",
   "metadata": {},
   "outputs": [
    {
     "data": {
      "image/png": "[encoded data removed]",
      "text/plain": [
       "<Figure size 500x500 with 1 Axes>"
      ]
     },
     "metadata": {},
     "output_type": "display_data"
    }
   ],
   "source": [
    "sns.displot(df[feature]);"
   ]
  },
  {
   "cell_type": "code",
   "execution_count": null,
   "id": "dfee4b65",
   "metadata": {},
   "outputs": [],
   "source": []
  }
 ],
 "metadata": {
  "kernelspec": {
   "display_name": "Python 3 (ipykernel)",
   "language": "python",
   "name": "python3"
  },
  "language_info": {
   "codemirror_mode": {
    "name": "ipython",
    "version": 3
   },
   "file_extension": ".py",
   "mimetype": "text/x-python",
   "name": "python",
   "nbconvert_exporter": "python",
   "pygments_lexer": "ipython3",
   "version": "3.8.10"
  }
 },
 "nbformat": 4,
 "nbformat_minor": 5
}
